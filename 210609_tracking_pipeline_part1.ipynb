{
 "cells": [
  {
   "cell_type": "markdown",
   "metadata": {},
   "source": [
    "### The workflow has the following parts:\n",
    "* Part 0: set up\n",
    "* Part I: identify tracking parameters\n",
    "* Part II: track\n",
    "* Part III: msds\n",
    "* Part IV: sanity-checks\n",
    "\n",
    "This pipeline is largely based on trackpy: <br>\n",
    "\n",
    "http://soft-matter.github.io/trackpy/v0.4.2/\n",
    "\n",
    "It was written based on v0.4.2, although it should work with later versions as well.\n",
    "\n",
    "Before you proceed it is useful to go through the trackpy tutorial.\n",
    "\n",
    "This pipeline was written for movies of cells that have fluorescent spots within them. These movies have two channels, a phase channel and a fluorescence channel, where the fluorescence channel contains the spots we want to track. However, the pipeline can be adapted to other scenarios, such as tracking spots on the phase images. "
   ]
  },
  {
   "cell_type": "markdown",
   "metadata": {},
   "source": [
    "## Part 0: set up"
   ]
  },
  {
   "cell_type": "markdown",
   "metadata": {},
   "source": [
    "### experimental parameters\n",
    "\n",
    "Insert below the acquisition framerate, in 1 / seconds, and the pixel-to-micron conversion (typically in microns per pixel)."
   ]
  },
  {
   "cell_type": "code",
   "execution_count": 1,
   "metadata": {},
   "outputs": [],
   "source": [
    "acquisition_framerate = 1/(0.210) #s (1 / time between frames)\n",
    "px_to_micron = 0.10748 # microns per pixel"
   ]
  },
  {
   "cell_type": "markdown",
   "metadata": {},
   "source": [
    "### file location\n",
    "The tracking pipeline expects a specific folder structure. This goes as follows: <br>\n",
    "* The movie you are about to track should have a dedicated folder, named after the movie. If, for example, you have a movie called \"movie.nd2\" that you want to track, you need to have a folder named \"movie/\". \n",
    "* This folder must contain two subfolders. One subfolder should be called \"images/\" and it should contain all frames of the fluorescent channel of the movie. The other subfolder should be called \"phase_images/\" and it should contain all frames of the phase channel of the movie. There should be one image file per frame. The default extension is \".tif\". <br>\n",
    "In this pipeline we are tracking fluorescent spots, found in the fluorescence images. The phase images are also necessary for two reasons: 1. to help tune the tracking parameters, by ensuring that you have no spots outside cells 2. to see where the trajectories are located within the cells, which can be interesting and informative.\n",
    "* All output of this analysis is saved in a third subfolder named 'analysis/', created by this script. \n",
    "\n",
    "\n",
    "In the line below insert the path to the movie you will track, up to and containing the movie's dedicated folder.\n",
    "Note that the path should be specified \"in Unix style\", i.e. with '/' instead of '\\\\' between the folder names.<br>\n"
   ]
  },
  {
   "cell_type": "code",
   "execution_count": 2,
   "metadata": {},
   "outputs": [],
   "source": [
    "dataset_location = '/Users/sofia/Documents/LEB/PolyP/code/tracking_pipeline_shared/packet/data/210518_0h_bLR1_0001/'"
   ]
  },
  {
   "cell_type": "markdown",
   "metadata": {},
   "source": [
    "### module import \n",
    "\n",
    "Now import all libraries you will need to run the notebook. \n",
    "Note that:\n",
    "* you will need to install trackpy (see link above)\n",
    "* you may need to install pims: http://soft-matter.github.io/pims/v0.5/ \n",
    "* you might have to run the cell below twice in order to get the figures that follow to be interactive. "
   ]
  },
  {
   "cell_type": "code",
   "execution_count": 8,
   "metadata": {},
   "outputs": [],
   "source": [
    "import tracking\n",
    "import pylab\n",
    "import matplotlib\n",
    "# %matplotlib notebook  \n",
    "%matplotlib widget     \n",
    "import pandas\n",
    "import numpy\n",
    "import scipy\n",
    "import random\n",
    "import trackpy\n",
    "import plot_tracking_results\n",
    "import os\n",
    "import re\n",
    "\n",
    "#import plotly\n",
    "# import bokeh_catplot\n",
    "# import bokeh.io\n",
    "# import bokeh.plotting\n",
    "# bokeh.io.output_notebook()\n",
    "# from bokeh.io import export_png"
   ]
  },
  {
   "cell_type": "markdown",
   "metadata": {},
   "source": [
    "Before moving on a few final comments are of note to ensure plots are correctly output. \n",
    "\n",
    "Depending on your system settings, you may need to load a different matplotlib backend among the ones listed above (matplotlib notebook, matplotlib widget). \n",
    "\n",
    "To check that plots show up as intended by this script, let us make a simple plot below. You should be able to zoom in and out interactively. If not, shut down this notebook and restart it with a different backend from the options included above in lines 4, 5 (notebook or widget). "
   ]
  },
  {
   "cell_type": "code",
   "execution_count": 9,
   "metadata": {},
   "outputs": [
    {
     "data": {
      "application/vnd.jupyter.widget-view+json": {
       "model_id": "ad36f69db7e24029bad841d4f9cc7b1e",
       "version_major": 2,
       "version_minor": 0
      },
      "text/plain": [
       "Canvas(toolbar=Toolbar(toolitems=[('Home', 'Reset original view', 'home', 'home'), ('Back', 'Back to previous …"
      ]
     },
     "metadata": {},
     "output_type": "display_data"
    },
    {
     "data": {
      "text/plain": [
       "[<matplotlib.lines.Line2D at 0x122182e90>]"
      ]
     },
     "execution_count": 9,
     "metadata": {},
     "output_type": "execute_result"
    }
   ],
   "source": [
    "pylab.close('test figure')\n",
    "pylab.figure('test figure')\n",
    "\n",
    "xs = numpy.arange(-10, 10, 0.1)\n",
    "ys = xs**3\n",
    "pylab.plot(xs, ys)"
   ]
  },
  {
   "cell_type": "markdown",
   "metadata": {},
   "source": [
    "## Part I: identify tracking parameters"
   ]
  },
  {
   "cell_type": "markdown",
   "metadata": {},
   "source": [
    "First, let us get a sense of the intensity range in your images. <br>\n",
    "To do that, we will load a fluorescent frame and look at the colorbar values that indicate the min and max intensity in the image. <br>\n",
    "This is a useful first step, because if a specific movie is too dim or too bright you can notice right away. <br>\n",
    "In the cell below, in line 1 after 'images/', type the filename of the fluorescent frame you want to see; it can be the first frame or the last frame or any frame. "
   ]
  },
  {
   "cell_type": "code",
   "execution_count": 16,
   "metadata": {},
   "outputs": [
    {
     "data": {
      "application/vnd.jupyter.widget-view+json": {
       "model_id": "a3912cee10bc44c4806c465d24bce68b",
       "version_major": 2,
       "version_minor": 0
      },
      "text/plain": [
       "Canvas(toolbar=Toolbar(toolitems=[('Home', 'Reset original view', 'home', 'home'), ('Back', 'Back to previous …"
      ]
     },
     "metadata": {},
     "output_type": "display_data"
    },
    {
     "data": {
      "text/plain": [
       "<matplotlib.colorbar.Colorbar at 0x1258eccd0>"
      ]
     },
     "execution_count": 16,
     "metadata": {},
     "output_type": "execute_result"
    }
   ],
   "source": [
    "a = pylab.imread(dataset_location + 'images/2100518_0h_bLR1_0001_t001_c001.tif')\n",
    "pylab.close('intensity check')\n",
    "pylab.figure('intensity check')\n",
    "pylab.imshow(a)\n",
    "pylab.colorbar()"
   ]
  },
  {
   "cell_type": "markdown",
   "metadata": {},
   "source": [
    "Next, look for reasonable spot-identification parameters.  <br>\n",
    "To do that, pick a frame (it could be the first or the last or any frame you like) and only locate spots on that frame, tweaking parameters until you are satisfied with the result. <br>\n",
    "\n",
    "In this step, the main parameters to decide on are the diameter and the minmass, where diameter corresponds to the spot size (in pixels, must be an odd number) and minmass corresponds to the minimum integrated spot intensity below which spots will be ignored. For more information see the trackpy tutorial. <br>\n",
    "\n",
    "To do that you will use the function tracking.test_parameters() below. This function has four main inputs: \n",
    "* the dataset location as you specified it in part 0\n",
    "* the framenumber for the frame on which you want to test the tracking parameters\n",
    "* the spot diameter\n",
    "* the spot minmass. <br>\n",
    "Finally, you might want to change the file extension from '.tiff' to whatever describes your images. <br>\n",
    "\n",
    "To tune the tracking parameters, you vary the diameter and minmass until you find most bright spots of interest. <br>\n",
    "\n",
    "It does not much matter, how you end up finding these two parameters, as long as the result makes sense. Here is a suggested method: <br>\n",
    "* In tracking.test_parameters() first choose phase = True. This will show the found spots overlaid on the phase image. In this step you can make sure that all found spots are inside cells and you can get a sense of their whereabouts within the cell. \n",
    "* Then choose superimpose_phase = False and run the cell again, to look at the spots on the fluorescence image. <br>\n",
    "* To tune the minmass, choose two consecutive values for the minmass - for instance here 110 and 120. The spots found each time will be shown with two different colors, specified as color_a and color_b below. Thus, spots that stand out will have minmass between 110 and 120, so you can zoom in on these to inspect and see if they are real bright spots or indistinguishable from noise. This way you can finalize the choice of minmass. \n",
    "* Tuning the diameter is less likely to be necessary, if you have a good sense of the spot size (which you can get by zooming in on a few spots to measure their width). Nonetheless, we will get back to this point shortly."
   ]
  },
  {
   "cell_type": "code",
   "execution_count": 22,
   "metadata": {},
   "outputs": [
    {
     "data": {
      "application/vnd.jupyter.widget-view+json": {
       "model_id": "f9e302ee14b947ae8bc25c0bc54dd4bd",
       "version_major": 2,
       "version_minor": 0
      },
      "text/plain": [
       "Canvas(toolbar=Toolbar(toolitems=[('Home', 'Reset original view', 'home', 'home'), ('Back', 'Back to previous …"
      ]
     },
     "metadata": {},
     "output_type": "display_data"
    },
    {
     "name": "stdout",
     "output_type": "stream",
     "text": [
      "diameter = 9, minmass = 2000, found 530 particles\n",
      "diameter = 9, minmass = 4000, found 530 particles\n"
     ]
    }
   ],
   "source": [
    "phase = False # set to True if you want to see the phase image\n",
    "color_a = '#FFFF00' # yellow\n",
    "color_b = '#FF00FF' #(magenta)\n",
    "pylab.close('testing spot parameters')\n",
    "pylab.figure('testing spot parameters')\n",
    "c_a = tracking.test_parameters(dataset_location, 0, 9, 2000, color = color_a, superimpose_phase = phase, extension = '*.tif')\n",
    "c_b = tracking.test_parameters(dataset_location, 0, 9, 4000, color = color_b, superimpose_phase = phase, extension = '*.tif')"
   ]
  },
  {
   "cell_type": "markdown",
   "metadata": {},
   "source": [
    "Next, let's make sure the chosen diameter is reasonable. <br>\n",
    "One parameter that can help make this call is the subpixel bias: the distribution of decimal points in the values of the coordinates of the spots found. There is no reason any particular digit should be preferred, so this disitribution should generally be flat (see also the trackpy tutorial). <br>\n",
    "If the diameter is too small, this can lead to a non-flat subpxel bias. If the diameter is too big, the script might end up merging spots together. So you can optimize by going between the subpixel bias and the image of the found spots above. <br>\n",
    "Let us look at the subpixel bias for these spots.  "
   ]
  },
  {
   "cell_type": "code",
   "execution_count": 23,
   "metadata": {},
   "outputs": [
    {
     "data": {
      "application/vnd.jupyter.widget-view+json": {
       "model_id": "2aacfd7f082e488598a1c78a6d93c701",
       "version_major": 2,
       "version_minor": 0
      },
      "text/plain": [
       "Canvas(toolbar=Toolbar(toolitems=[('Home', 'Reset original view', 'home', 'home'), ('Back', 'Back to previous …"
      ]
     },
     "metadata": {},
     "output_type": "display_data"
    },
    {
     "data": {
      "text/plain": [
       "array([[<matplotlib.axes._subplots.AxesSubplot object at 0x128fc8d50>,\n",
       "        <matplotlib.axes._subplots.AxesSubplot object at 0x128e85e90>]],\n",
       "      dtype=object)"
      ]
     },
     "execution_count": 23,
     "metadata": {},
     "output_type": "execute_result"
    }
   ],
   "source": [
    "trackpy.subpx_bias(c_a)"
   ]
  },
  {
   "cell_type": "markdown",
   "metadata": {},
   "source": [
    "Once you are satisfied with your choice of diameter and minmass, you can perform a few final inspections. The remaining steps in part I are not necessary but might be useful on occasion.<br>\n",
    "\n",
    "Some other quantities that can be useful for characterizing the found spots, and potentially filtering them later on, are the localization uncertainty and the eccentricity. To see all possibilities, look at the column titles of the coordinates DataFrame, like so: c.columns. Or take a look at the first few lines of the DataFrame, like so: c.head(). Here c is your DataFrame of choice, for instance it would be c_b from above. <br>\n",
    "\n",
    "You can inspect your data overall, by making histograms for these values based on the spots we found above. You can also directly annotate spots on the frame you have chosen based on their value. <br>\n",
    "\n",
    "For example, let us first look at the distribution of localization uncertainty, as calculated by trackpy. <br>\n",
    "Here the x-axis units are pixels. We will come back to this quantity again later on; for now we just want to see if there is a big distribution, or if most found spots in the frame above have similar localization uncertainty."
   ]
  },
  {
   "cell_type": "code",
   "execution_count": 24,
   "metadata": {
    "scrolled": false
   },
   "outputs": [
    {
     "data": {
      "application/vnd.jupyter.widget-view+json": {
       "model_id": "01de8d2dde06465bba9d4ac576865e42",
       "version_major": 2,
       "version_minor": 0
      },
      "text/plain": [
       "Canvas(toolbar=Toolbar(toolitems=[('Home', 'Reset original view', 'home', 'home'), ('Back', 'Back to previous …"
      ]
     },
     "metadata": {},
     "output_type": "display_data"
    },
    {
     "data": {
      "text/plain": [
       "Text(0.5, 0, 'localization uncertainty (px) as calculated by trackpy')"
      ]
     },
     "execution_count": 24,
     "metadata": {},
     "output_type": "execute_result"
    }
   ],
   "source": [
    "c_b.hist('ep', bins=50)\n",
    "pylab.xlabel('localization uncertainty (px) as calculated by trackpy')"
   ]
  },
  {
   "cell_type": "markdown",
   "metadata": {},
   "source": [
    "Next, let us look at the distribution of eccentricity. "
   ]
  },
  {
   "cell_type": "code",
   "execution_count": 25,
   "metadata": {},
   "outputs": [
    {
     "data": {
      "application/vnd.jupyter.widget-view+json": {
       "model_id": "b76bc23a08724fcaaaf309c6279a89e1",
       "version_major": 2,
       "version_minor": 0
      },
      "text/plain": [
       "Canvas(toolbar=Toolbar(toolitems=[('Home', 'Reset original view', 'home', 'home'), ('Back', 'Back to previous …"
      ]
     },
     "metadata": {},
     "output_type": "display_data"
    },
    {
     "data": {
      "text/plain": [
       "Text(0.5, 0, 'eccentriccity, as calculated by trackpy')"
      ]
     },
     "execution_count": 25,
     "metadata": {},
     "output_type": "execute_result"
    }
   ],
   "source": [
    "c_b.hist('ecc', bins=50)\n",
    "pylab.xlabel('eccentriccity, as calculated by trackpy')"
   ]
  },
  {
   "cell_type": "markdown",
   "metadata": {},
   "source": [
    "If there are spurious features, such as spots wrongly localized inbetween two real spots, these can often be filtered out based on one of these features such as eccentricity. <br>\n",
    "To get more direct visual intuition for what the values of these features mean, let us connect these quantities to the spots of the frame already tracked. <br>\n",
    "To do that we will annotate, on the frame, all found coordinates, then overlay them with all coordinates that satisfy a certain criterion specified in lines 1, 7 below. If there are spurious spots that do not satisfy this criterion, then we have found a way to filter them out."
   ]
  },
  {
   "cell_type": "code",
   "execution_count": 27,
   "metadata": {},
   "outputs": [
    {
     "data": {
      "application/vnd.jupyter.widget-view+json": {
       "model_id": "0b03377bcef64a6988a7141ad3228c73",
       "version_major": 2,
       "version_minor": 0
      },
      "text/plain": [
       "Canvas(toolbar=Toolbar(toolitems=[('Home', 'Reset original view', 'home', 'home'), ('Back', 'Back to previous …"
      ]
     },
     "metadata": {},
     "output_type": "display_data"
    },
    {
     "data": {
      "text/plain": [
       "Text(0, -15, 'o: all other spots')"
      ]
     },
     "execution_count": 27,
     "metadata": {},
     "output_type": "execute_result"
    }
   ],
   "source": [
    "limit_value = 0.3\n",
    "\n",
    "pylab.close('eccentricity check')  \n",
    "pylab.figure('eccentricity check')\n",
    "images = tracking.load_images(dataset_location + 'images/', extension = '.tif')  # load the images\n",
    "# red : all spots\n",
    "trackpy.annotate(c_b, images[0], color = '#FF0000', plot_style={'markersize' : 1}, imshow_style = {'vmin' : 0, 'vmax' : None}) # Here we look at the first frame (images[0]), you can look at any frame you want.\n",
    "# cyan : only spots with eccentricity < 0.4. \n",
    "trackpy.annotate(c_b[c_b.ecc < limit_value], images[0], color = '#00FFFF', plot_style={'markersize' : 1}, imshow_style = {'vmin' : 0, 'vmax' : None})\n",
    "pylab.text(0, -70, 'o: eccentricity < ' + str(limit_value), color = 'c', fontsize = 11)\n",
    "pylab.text(0, -15, 'o: all other spots', color = 'r', fontsize = 11)"
   ]
  },
  {
   "cell_type": "markdown",
   "metadata": {},
   "source": [
    "## Part II: track."
   ]
  },
  {
   "cell_type": "markdown",
   "metadata": {},
   "source": [
    "Based on the above characterizations you should by now have settled on values for the diameter and minmass, as well as any additional criteria that are relevant for your data based on quantities such as the eccentricity. <br>\n",
    "\n",
    "Next we will identify all bright spots in all movie frames and then link them into trajectories. <br>\n",
    "\n",
    "To link, we need to further specify two parameters: \n",
    "* the search range: how far a spot can go between frames and still be considered as the same spot\n",
    "* the memory: the number of frames during which a spot can disappear before it is forgotten. <br>\n",
    "Finally, we will remove very short trajectories by choosing \n",
    "* a stub length: a length (in number of frames) below which trajectories are ignored. For more information, see the trackpy tutorial. <br>\n",
    "\n",
    "In this tracking pipeline, you can also apply so-called 'selection rules' in the tracking parameters. These are criteria that you wish your bright spots to satisfy. <br>\n",
    "To specify a selection rule use the format [['quantity', 'relation', value]]. Note the double [[ ]] - this can be a list of lists. Here \n",
    "* 'quantity' should be a column of the coordinates DataFrame\n",
    "* 'relation' is 'greater', 'lesser', 'equal', or 'inbetween' \n",
    "* value is a float or integer. If 'relation' is 'inbetween', value is a list of floats or integers with two elements. <br>\n",
    "For example, to filter by eccentricity such that all features have eccentricity < 0.25, you would type selection_rule = [['ecc','lesser', 0.25]]. <br>\n",
    "Or, to filter by SNR, such that all features have 2<snr<4, you would type selection_rule = [['snr', 'inbetween', [2, 4]]]. <br>\n",
    "Or, to filter by both of these criteria, you would type selection_rule = [['snr', 'inbetween', [2, 4]], ['ecc','lesser', 0.25]] <br>\n",
    "To not use any selection rules, type selection_rule = None. <br>\n",
    "\n",
    "Insert parameters for tracking:"
   ]
  },
  {
   "cell_type": "code",
   "execution_count": 30,
   "metadata": {},
   "outputs": [
    {
     "name": "stdout",
     "output_type": "stream",
     "text": [
      "selection rule:\n",
      "snr_greater_than_1p0_\n"
     ]
    }
   ],
   "source": [
    "d = 9 # diameter (pixels)\n",
    "mm = 4000 # minmass\n",
    "sr = 4 # search range (pixels)\n",
    "m = 10 # memory (number of frames)\n",
    "sl = 10 # stub_length (number of frames)\n",
    "# selection_rule = [['ep', 'inbetween', [0,sr/2.]], ['snr', 'greater', 1.2], ['size', 'inbetween', [1.2, 1.9]]] \n",
    "# selection_rule = None \n",
    "selection_rule = [['snr', 'greater', 1.0]] \n",
    "selection_rule_in_words = tracking.select_coordinates(None, selection_rule=selection_rule)[1]\n",
    "directory_now = 'analysis/diameter' + str(d) + '_minmass' + str(mm) + '_percentile65/search_range' + str(sr)+ '_memory' + str(m).zfill(2) + '/'"
   ]
  },
  {
   "cell_type": "markdown",
   "metadata": {},
   "source": [
    "Now track. <br>\n",
    "\n",
    "Two points of convenience:\n",
    "* When the algorithm is done, it will show you the resulting trajectries on top of your image. If you want to see them on top of the phase image, choose phase = True. \n",
    "* If you have already found the spots and you are optimizing their linking parameters, you may not want to wait for the algorithm to track them again and again. Instead, you can save time by reloading the existing coordinates. If you want to do that, set use_existing_coordinates = True, and the script will move straight to linking of the spots you have found previously.\n"
   ]
  },
  {
   "cell_type": "code",
   "execution_count": 31,
   "metadata": {},
   "outputs": [
    {
     "name": "stdout",
     "output_type": "stream",
     "text": [
      "Frame 99: 493 trajectories present.\n"
     ]
    },
    {
     "data": {
      "application/vnd.jupyter.widget-view+json": {
       "model_id": "0dbd68f092444cb08b60c9a589100cb1",
       "version_major": 2,
       "version_minor": 0
      },
      "text/plain": [
       "Canvas(toolbar=Toolbar(toolitems=[('Home', 'Reset original view', 'home', 'home'), ('Back', 'Back to previous …"
      ]
     },
     "metadata": {},
     "output_type": "display_data"
    },
    {
     "name": "stderr",
     "output_type": "stream",
     "text": [
      "/opt/anaconda3/lib/python3.7/site-packages/matplotlib/figure.py:98: MatplotlibDeprecationWarning: \n",
      "Adding an axes using the same arguments as a previous axes currently reuses the earlier instance.  In a future version, a new instance will always be created and returned.  Meanwhile, this warning can be suppressed, and the future behavior ensured, by passing a unique label to each axes instance.\n",
      "  \"Adding an axes using the same arguments as a previous axes \"\n"
     ]
    },
    {
     "name": "stdout",
     "output_type": "stream",
     "text": [
      "I found 617 trajectories.\n"
     ]
    }
   ],
   "source": [
    "phase = True\n",
    "use_existing_coordinates = True\n",
    "coordinates, trajectories, filtered_trajectories, filtered_trajectories_filename = tracking.track(dataset_location, d, mm, sr, m, sl, superimpose_phase=phase, selection_rule=selection_rule, use_if_existing_coordinates = use_existing_coordinates);"
   ]
  },
  {
   "cell_type": "markdown",
   "metadata": {},
   "source": [
    "To inspect the trajectories more closely and identify particles that you wish to check more carefully, you can plot the found trajectories below and choose show_particle_id = True, to have their particle id written on the image. <br>\n",
    "Here I load the phase frames, but you can choose to load the fluorescence frames as well. "
   ]
  },
  {
   "cell_type": "code",
   "execution_count": 32,
   "metadata": {},
   "outputs": [
    {
     "data": {
      "application/vnd.jupyter.widget-view+json": {
       "model_id": "2953610d27d14826bdbf56b2cffe23e9",
       "version_major": 2,
       "version_minor": 0
      },
      "text/plain": [
       "Canvas(toolbar=Toolbar(toolitems=[('Home', 'Reset original view', 'home', 'home'), ('Back', 'Back to previous …"
      ]
     },
     "metadata": {},
     "output_type": "display_data"
    },
    {
     "data": {
      "text/plain": [
       "Text(0.5, 1.0, '617 trajectories')"
      ]
     },
     "execution_count": 32,
     "metadata": {},
     "output_type": "execute_result"
    }
   ],
   "source": [
    "show_particle_id = True\n",
    "phase_frames = tracking.load_images(dataset_location + 'phase_images/')\n",
    "\n",
    "pylab.close('trajectories')\n",
    "pylab.figure('trajectories')\n",
    "trackpy.plot_traj(filtered_trajectories, superimpose = phase_frames[0], label = show_particle_id)\n",
    "n = len(set(filtered_trajectories.particle))\n",
    "# pylab.ylim(705, 605)\n",
    "# pylab.xlim(190, 290)\n",
    "pylab.title(str(n) + ' trajectories')"
   ]
  },
  {
   "cell_type": "markdown",
   "metadata": {},
   "source": [
    "Before we proceed with the analysis of the trajectories, let us do a few sanity-checks. <br>\n",
    "We will look at the step size distribution and how it compares to the localization uncertainty, as well as to the physical size of the cell and to the related search range that we have imposed. <br>\n",
    "Below we calculate the step sizes. "
   ]
  },
  {
   "cell_type": "code",
   "execution_count": 33,
   "metadata": {},
   "outputs": [],
   "source": [
    "filtered_trajectories = tracking.measure_step_size(filtered_trajectories)"
   ]
  },
  {
   "cell_type": "markdown",
   "metadata": {},
   "source": [
    "Now let us take a look at the distribution of step sizes. <br>\n",
    "In the following figure, the blue histogram shows the step sizes and the orange histogram shows the localization uncertainties, as calculated by trackpy. It is always a good idea to measure your localization uncertainty, in addition to this calculation. "
   ]
  },
  {
   "cell_type": "code",
   "execution_count": 37,
   "metadata": {},
   "outputs": [
    {
     "data": {
      "application/vnd.jupyter.widget-view+json": {
       "model_id": "9c356e5c9be346f287ff8e66f725ed01",
       "version_major": 2,
       "version_minor": 0
      },
      "text/plain": [
       "Canvas(toolbar=Toolbar(toolitems=[('Home', 'Reset original view', 'home', 'home'), ('Back', 'Back to previous …"
      ]
     },
     "metadata": {},
     "output_type": "display_data"
    },
    {
     "name": "stderr",
     "output_type": "stream",
     "text": [
      "/opt/anaconda3/lib/python3.7/site-packages/numpy/lib/histograms.py:839: RuntimeWarning: invalid value encountered in greater_equal\n",
      "  keep = (tmp_a >= first_edge)\n",
      "/opt/anaconda3/lib/python3.7/site-packages/numpy/lib/histograms.py:840: RuntimeWarning: invalid value encountered in less_equal\n",
      "  keep &= (tmp_a <= last_edge)\n"
     ]
    },
    {
     "data": {
      "text/plain": [
       "<matplotlib.legend.Legend at 0x145f08350>"
      ]
     },
     "execution_count": 37,
     "metadata": {},
     "output_type": "execute_result"
    }
   ],
   "source": [
    "pylab.close('step sizes')\n",
    "pylab.figure('step sizes')\n",
    "\n",
    "pylab.hist(filtered_trajectories.previous_step_size * px_to_micron, bins = 100, label = 'step size', alpha = 0.5)\n",
    "pylab.xlabel('step size (μm)')\n",
    "pylab.hist(filtered_trajectories.ep * px_to_micron, bins = 25, label = 'localization uncertainty', alpha = 0.5)\n",
    "\n",
    "pylab.axvline(filtered_trajectories.ep.median() * px_to_micron, color = 'orange', label = 'median loc. uncertainty \\n(theoretical): ' + str(round(filtered_trajectories.ep.median() * px_to_micron,3)) + ' μm')\n",
    "pylab.axvline(sr * px_to_micron, color = 'k', label = 'search range')\n",
    "pylab.axvline(filtered_trajectories.previous_step_size.median() * px_to_micron, color = '#0699F9', label = 'median step size: ' + str(round(filtered_trajectories.previous_step_size.median() * px_to_micron, 2)) + ' μm')\n",
    "pylab.legend()\n",
    "# pylab.xlim(0, 5)"
   ]
  },
  {
   "cell_type": "markdown",
   "metadata": {},
   "source": [
    "It is also interesting to look at how the step sizes compare to the theoretical localization uncertainty for each step. This is shown below, where we can compare the localization uncertainty of each spot to the size of the step that it traversed between the previous and the current frame. <br>\n",
    "Points in blue correspond to steps larger than their spot's localization uncertainty, and points in orange correspond to steps smaller than their spot's localization uncertainty - i.e. ill-defined steps. "
   ]
  },
  {
   "cell_type": "code",
   "execution_count": 16,
   "metadata": {},
   "outputs": [
    {
     "name": "stdout",
     "output_type": "stream",
     "text": [
      "0.2% of steps are too small compared to the localization uncertainty (as calculated by trackpy).\n"
     ]
    },
    {
     "data": {
      "image/png": "[encoded data removed]",
      "text/plain": [
       "<Figure size 432x288 with 1 Axes>"
      ]
     },
     "metadata": {
      "needs_background": "light"
     },
     "output_type": "display_data"
    }
   ],
   "source": [
    "pylab.close('loc. uncertainty vs previous step size')\n",
    "pylab.figure('loc. uncertainty vs previous step size')\n",
    "pylab.title('loc. uncertainty vs previous step size')\n",
    "\n",
    "pylab.plot(filtered_trajectories.ep * px_to_micron, filtered_trajectories.previous_step_size * px_to_micron, '.', alpha = 0.1)\n",
    "#pylab.plot(numpy.arange(0, filtered_trajectories.ep.max() * px_to_micron, 0.01), numpy.arange(0, filtered_trajectories.ep.max() * px_to_micron, 0.01), color = 'r', label = 'ep = step size')\n",
    "unc_larger_than_step = filtered_trajectories[filtered_trajectories.ep > filtered_trajectories.previous_step_size]\n",
    "pylab.plot(unc_larger_than_step.ep * px_to_micron, unc_larger_than_step.previous_step_size * px_to_micron, '.', alpha = 0.1)\n",
    "#pylab.legend(loc = 1, framealpha = 0)\n",
    "\n",
    "problematic = 100 * len(unc_larger_than_step) / len(filtered_trajectories)\n",
    "problematic = str(round(problematic,1))\n",
    "print(str(problematic) + '% of steps are too small compared to the localization uncertainty (as calculated by trackpy).')\n",
    "pylab.text(0.02 * px_to_micron, 0.35, str(problematic) + '% of steps\\nbelow their loc. uncertainty', color = 'orange')\n",
    "pylab.xlabel('localization uncertainty (μm)')\n",
    "pylab.ylabel('previous step size (μm)')\n",
    "pylab.savefig(dataset_location + directory_now + 'previous_step_size-vs-loc_uncertainty.png', bbox_inches = 'tight')"
   ]
  },
  {
   "cell_type": "markdown",
   "metadata": {},
   "source": [
    "Finally, it is a good idea to make a few movies of individual trajectories, to make sure that you have chosen reasonable parameters. <br>\n",
    "In the kernel below you can generate a series of images with a small field of view centered around a particle of your choice, with its trajectory drawn in real time. You can speficy the id of this particle, or a list of ids, in line 1. <br>\n",
    "Again, you can also choose whether to draw the trajectories on the phase image, by choosing phase = True. \n",
    "The frames of these movies will be saved in the \"analysis/\" folder that has been created within the main movie folder."
   ]
  },
  {
   "cell_type": "code",
   "execution_count": 38,
   "metadata": {
    "scrolled": false
   },
   "outputs": [
    {
     "name": "stdout",
     "output_type": "stream",
     "text": [
      "stub_length010_snr_greater_than_1p0_\n",
      "I have chosen this file: \n",
      "filtered_trajectories_stub_length010_snr_greater_than_1p0_.pkl\n",
      "/Users/sofia/Documents/LEB/PolyP/code/tracking_pipeline_shared/packet/data/210518_0h_bLR1_0001/analysis/diameter9_minmass4000_percentile65/search_range4_memory10/filtered_trajectories_stub_length010_snr_greater_than_1p0_.pkl\n",
      "I have chosen particle 373.\n"
     ]
    },
    {
     "data": {
      "application/vnd.jupyter.widget-view+json": {
       "model_id": "",
       "version_major": 2,
       "version_minor": 0
      },
      "text/plain": [
       "Canvas(toolbar=Toolbar(toolitems=[('Home', 'Reset original view', 'home', 'home'), ('Back', 'Back to previous …"
      ]
     },
     "metadata": {},
     "output_type": "display_data"
    },
    {
     "data": {
      "application/vnd.jupyter.widget-view+json": {
       "model_id": "",
       "version_major": 2,
       "version_minor": 0
      },
      "text/plain": [
       "Canvas(toolbar=Toolbar(toolitems=[('Home', 'Reset original view', 'home', 'home'), ('Back', 'Back to previous …"
      ]
     },
     "metadata": {},
     "output_type": "display_data"
    },
    {
     "data": {
      "application/vnd.jupyter.widget-view+json": {
       "model_id": "",
       "version_major": 2,
       "version_minor": 0
      },
      "text/plain": [
       "Canvas(toolbar=Toolbar(toolitems=[('Home', 'Reset original view', 'home', 'home'), ('Back', 'Back to previous …"
      ]
     },
     "metadata": {},
     "output_type": "display_data"
    },
    {
     "data": {
      "application/vnd.jupyter.widget-view+json": {
       "model_id": "",
       "version_major": 2,
       "version_minor": 0
      },
      "text/plain": [
       "Canvas(toolbar=Toolbar(toolitems=[('Home', 'Reset original view', 'home', 'home'), ('Back', 'Back to previous …"
      ]
     },
     "metadata": {},
     "output_type": "display_data"
    },
    {
     "data": {
      "application/vnd.jupyter.widget-view+json": {
       "model_id": "",
       "version_major": 2,
       "version_minor": 0
      },
      "text/plain": [
       "Canvas(toolbar=Toolbar(toolitems=[('Home', 'Reset original view', 'home', 'home'), ('Back', 'Back to previous …"
      ]
     },
     "metadata": {},
     "output_type": "display_data"
    },
    {
     "data": {
      "application/vnd.jupyter.widget-view+json": {
       "model_id": "",
       "version_major": 2,
       "version_minor": 0
      },
      "text/plain": [
       "Canvas(toolbar=Toolbar(toolitems=[('Home', 'Reset original view', 'home', 'home'), ('Back', 'Back to previous …"
      ]
     },
     "metadata": {},
     "output_type": "display_data"
    },
    {
     "data": {
      "application/vnd.jupyter.widget-view+json": {
       "model_id": "",
       "version_major": 2,
       "version_minor": 0
      },
      "text/plain": [
       "Canvas(toolbar=Toolbar(toolitems=[('Home', 'Reset original view', 'home', 'home'), ('Back', 'Back to previous …"
      ]
     },
     "metadata": {},
     "output_type": "display_data"
    },
    {
     "data": {
      "application/vnd.jupyter.widget-view+json": {
       "model_id": "",
       "version_major": 2,
       "version_minor": 0
      },
      "text/plain": [
       "Canvas(toolbar=Toolbar(toolitems=[('Home', 'Reset original view', 'home', 'home'), ('Back', 'Back to previous …"
      ]
     },
     "metadata": {},
     "output_type": "display_data"
    },
    {
     "data": {
      "application/vnd.jupyter.widget-view+json": {
       "model_id": "",
       "version_major": 2,
       "version_minor": 0
      },
      "text/plain": [
       "Canvas(toolbar=Toolbar(toolitems=[('Home', 'Reset original view', 'home', 'home'), ('Back', 'Back to previous …"
      ]
     },
     "metadata": {},
     "output_type": "display_data"
    },
    {
     "data": {
      "application/vnd.jupyter.widget-view+json": {
       "model_id": "",
       "version_major": 2,
       "version_minor": 0
      },
      "text/plain": [
       "Canvas(toolbar=Toolbar(toolitems=[('Home', 'Reset original view', 'home', 'home'), ('Back', 'Back to previous …"
      ]
     },
     "metadata": {},
     "output_type": "display_data"
    },
    {
     "data": {
      "application/vnd.jupyter.widget-view+json": {
       "model_id": "",
       "version_major": 2,
       "version_minor": 0
      },
      "text/plain": [
       "Canvas(toolbar=Toolbar(toolitems=[('Home', 'Reset original view', 'home', 'home'), ('Back', 'Back to previous …"
      ]
     },
     "metadata": {},
     "output_type": "display_data"
    },
    {
     "data": {
      "application/vnd.jupyter.widget-view+json": {
       "model_id": "",
       "version_major": 2,
       "version_minor": 0
      },
      "text/plain": [
       "Canvas(toolbar=Toolbar(toolitems=[('Home', 'Reset original view', 'home', 'home'), ('Back', 'Back to previous …"
      ]
     },
     "metadata": {},
     "output_type": "display_data"
    },
    {
     "data": {
      "application/vnd.jupyter.widget-view+json": {
       "model_id": "",
       "version_major": 2,
       "version_minor": 0
      },
      "text/plain": [
       "Canvas(toolbar=Toolbar(toolitems=[('Home', 'Reset original view', 'home', 'home'), ('Back', 'Back to previous …"
      ]
     },
     "metadata": {},
     "output_type": "display_data"
    },
    {
     "data": {
      "application/vnd.jupyter.widget-view+json": {
       "model_id": "",
       "version_major": 2,
       "version_minor": 0
      },
      "text/plain": [
       "Canvas(toolbar=Toolbar(toolitems=[('Home', 'Reset original view', 'home', 'home'), ('Back', 'Back to previous …"
      ]
     },
     "metadata": {},
     "output_type": "display_data"
    },
    {
     "data": {
      "application/vnd.jupyter.widget-view+json": {
       "model_id": "",
       "version_major": 2,
       "version_minor": 0
      },
      "text/plain": [
       "Canvas(toolbar=Toolbar(toolitems=[('Home', 'Reset original view', 'home', 'home'), ('Back', 'Back to previous …"
      ]
     },
     "metadata": {},
     "output_type": "display_data"
    },
    {
     "data": {
      "application/vnd.jupyter.widget-view+json": {
       "model_id": "",
       "version_major": 2,
       "version_minor": 0
      },
      "text/plain": [
       "Canvas(toolbar=Toolbar(toolitems=[('Home', 'Reset original view', 'home', 'home'), ('Back', 'Back to previous …"
      ]
     },
     "metadata": {},
     "output_type": "display_data"
    },
    {
     "data": {
      "application/vnd.jupyter.widget-view+json": {
       "model_id": "",
       "version_major": 2,
       "version_minor": 0
      },
      "text/plain": [
       "Canvas(toolbar=Toolbar(toolitems=[('Home', 'Reset original view', 'home', 'home'), ('Back', 'Back to previous …"
      ]
     },
     "metadata": {},
     "output_type": "display_data"
    },
    {
     "data": {
      "application/vnd.jupyter.widget-view+json": {
       "model_id": "",
       "version_major": 2,
       "version_minor": 0
      },
      "text/plain": [
       "Canvas(toolbar=Toolbar(toolitems=[('Home', 'Reset original view', 'home', 'home'), ('Back', 'Back to previous …"
      ]
     },
     "metadata": {},
     "output_type": "display_data"
    },
    {
     "data": {
      "application/vnd.jupyter.widget-view+json": {
       "model_id": "",
       "version_major": 2,
       "version_minor": 0
      },
      "text/plain": [
       "Canvas(toolbar=Toolbar(toolitems=[('Home', 'Reset original view', 'home', 'home'), ('Back', 'Back to previous …"
      ]
     },
     "metadata": {},
     "output_type": "display_data"
    },
    {
     "data": {
      "application/vnd.jupyter.widget-view+json": {
       "model_id": "",
       "version_major": 2,
       "version_minor": 0
      },
      "text/plain": [
       "Canvas(toolbar=Toolbar(toolitems=[('Home', 'Reset original view', 'home', 'home'), ('Back', 'Back to previous …"
      ]
     },
     "metadata": {},
     "output_type": "display_data"
    },
    {
     "data": {
      "application/vnd.jupyter.widget-view+json": {
       "model_id": "",
       "version_major": 2,
       "version_minor": 0
      },
      "text/plain": [
       "Canvas(toolbar=Toolbar(toolitems=[('Home', 'Reset original view', 'home', 'home'), ('Back', 'Back to previous …"
      ]
     },
     "metadata": {},
     "output_type": "display_data"
    },
    {
     "data": {
      "application/vnd.jupyter.widget-view+json": {
       "model_id": "",
       "version_major": 2,
       "version_minor": 0
      },
      "text/plain": [
       "Canvas(toolbar=Toolbar(toolitems=[('Home', 'Reset original view', 'home', 'home'), ('Back', 'Back to previous …"
      ]
     },
     "metadata": {},
     "output_type": "display_data"
    },
    {
     "data": {
      "application/vnd.jupyter.widget-view+json": {
       "model_id": "",
       "version_major": 2,
       "version_minor": 0
      },
      "text/plain": [
       "Canvas(toolbar=Toolbar(toolitems=[('Home', 'Reset original view', 'home', 'home'), ('Back', 'Back to previous …"
      ]
     },
     "metadata": {},
     "output_type": "display_data"
    },
    {
     "data": {
      "application/vnd.jupyter.widget-view+json": {
       "model_id": "",
       "version_major": 2,
       "version_minor": 0
      },
      "text/plain": [
       "Canvas(toolbar=Toolbar(toolitems=[('Home', 'Reset original view', 'home', 'home'), ('Back', 'Back to previous …"
      ]
     },
     "metadata": {},
     "output_type": "display_data"
    },
    {
     "data": {
      "application/vnd.jupyter.widget-view+json": {
       "model_id": "",
       "version_major": 2,
       "version_minor": 0
      },
      "text/plain": [
       "Canvas(toolbar=Toolbar(toolitems=[('Home', 'Reset original view', 'home', 'home'), ('Back', 'Back to previous …"
      ]
     },
     "metadata": {},
     "output_type": "display_data"
    },
    {
     "data": {
      "application/vnd.jupyter.widget-view+json": {
       "model_id": "",
       "version_major": 2,
       "version_minor": 0
      },
      "text/plain": [
       "Canvas(toolbar=Toolbar(toolitems=[('Home', 'Reset original view', 'home', 'home'), ('Back', 'Back to previous …"
      ]
     },
     "metadata": {},
     "output_type": "display_data"
    },
    {
     "data": {
      "application/vnd.jupyter.widget-view+json": {
       "model_id": "",
       "version_major": 2,
       "version_minor": 0
      },
      "text/plain": [
       "Canvas(toolbar=Toolbar(toolitems=[('Home', 'Reset original view', 'home', 'home'), ('Back', 'Back to previous …"
      ]
     },
     "metadata": {},
     "output_type": "display_data"
    },
    {
     "data": {
      "application/vnd.jupyter.widget-view+json": {
       "model_id": "",
       "version_major": 2,
       "version_minor": 0
      },
      "text/plain": [
       "Canvas(toolbar=Toolbar(toolitems=[('Home', 'Reset original view', 'home', 'home'), ('Back', 'Back to previous …"
      ]
     },
     "metadata": {},
     "output_type": "display_data"
    },
    {
     "data": {
      "application/vnd.jupyter.widget-view+json": {
       "model_id": "",
       "version_major": 2,
       "version_minor": 0
      },
      "text/plain": [
       "Canvas(toolbar=Toolbar(toolitems=[('Home', 'Reset original view', 'home', 'home'), ('Back', 'Back to previous …"
      ]
     },
     "metadata": {},
     "output_type": "display_data"
    },
    {
     "data": {
      "application/vnd.jupyter.widget-view+json": {
       "model_id": "",
       "version_major": 2,
       "version_minor": 0
      },
      "text/plain": [
       "Canvas(toolbar=Toolbar(toolitems=[('Home', 'Reset original view', 'home', 'home'), ('Back', 'Back to previous …"
      ]
     },
     "metadata": {},
     "output_type": "display_data"
    },
    {
     "data": {
      "application/vnd.jupyter.widget-view+json": {
       "model_id": "",
       "version_major": 2,
       "version_minor": 0
      },
      "text/plain": [
       "Canvas(toolbar=Toolbar(toolitems=[('Home', 'Reset original view', 'home', 'home'), ('Back', 'Back to previous …"
      ]
     },
     "metadata": {},
     "output_type": "display_data"
    },
    {
     "data": {
      "application/vnd.jupyter.widget-view+json": {
       "model_id": "",
       "version_major": 2,
       "version_minor": 0
      },
      "text/plain": [
       "Canvas(toolbar=Toolbar(toolitems=[('Home', 'Reset original view', 'home', 'home'), ('Back', 'Back to previous …"
      ]
     },
     "metadata": {},
     "output_type": "display_data"
    },
    {
     "data": {
      "application/vnd.jupyter.widget-view+json": {
       "model_id": "",
       "version_major": 2,
       "version_minor": 0
      },
      "text/plain": [
       "Canvas(toolbar=Toolbar(toolitems=[('Home', 'Reset original view', 'home', 'home'), ('Back', 'Back to previous …"
      ]
     },
     "metadata": {},
     "output_type": "display_data"
    },
    {
     "data": {
      "application/vnd.jupyter.widget-view+json": {
       "model_id": "",
       "version_major": 2,
       "version_minor": 0
      },
      "text/plain": [
       "Canvas(toolbar=Toolbar(toolitems=[('Home', 'Reset original view', 'home', 'home'), ('Back', 'Back to previous …"
      ]
     },
     "metadata": {},
     "output_type": "display_data"
    },
    {
     "data": {
      "application/vnd.jupyter.widget-view+json": {
       "model_id": "",
       "version_major": 2,
       "version_minor": 0
      },
      "text/plain": [
       "Canvas(toolbar=Toolbar(toolitems=[('Home', 'Reset original view', 'home', 'home'), ('Back', 'Back to previous …"
      ]
     },
     "metadata": {},
     "output_type": "display_data"
    },
    {
     "data": {
      "application/vnd.jupyter.widget-view+json": {
       "model_id": "",
       "version_major": 2,
       "version_minor": 0
      },
      "text/plain": [
       "Canvas(toolbar=Toolbar(toolitems=[('Home', 'Reset original view', 'home', 'home'), ('Back', 'Back to previous …"
      ]
     },
     "metadata": {},
     "output_type": "display_data"
    },
    {
     "data": {
      "application/vnd.jupyter.widget-view+json": {
       "model_id": "",
       "version_major": 2,
       "version_minor": 0
      },
      "text/plain": [
       "Canvas(toolbar=Toolbar(toolitems=[('Home', 'Reset original view', 'home', 'home'), ('Back', 'Back to previous …"
      ]
     },
     "metadata": {},
     "output_type": "display_data"
    },
    {
     "data": {
      "application/vnd.jupyter.widget-view+json": {
       "model_id": "",
       "version_major": 2,
       "version_minor": 0
      },
      "text/plain": [
       "Canvas(toolbar=Toolbar(toolitems=[('Home', 'Reset original view', 'home', 'home'), ('Back', 'Back to previous …"
      ]
     },
     "metadata": {},
     "output_type": "display_data"
    },
    {
     "data": {
      "application/vnd.jupyter.widget-view+json": {
       "model_id": "",
       "version_major": 2,
       "version_minor": 0
      },
      "text/plain": [
       "Canvas(toolbar=Toolbar(toolitems=[('Home', 'Reset original view', 'home', 'home'), ('Back', 'Back to previous …"
      ]
     },
     "metadata": {},
     "output_type": "display_data"
    },
    {
     "data": {
      "application/vnd.jupyter.widget-view+json": {
       "model_id": "",
       "version_major": 2,
       "version_minor": 0
      },
      "text/plain": [
       "Canvas(toolbar=Toolbar(toolitems=[('Home', 'Reset original view', 'home', 'home'), ('Back', 'Back to previous …"
      ]
     },
     "metadata": {},
     "output_type": "display_data"
    },
    {
     "data": {
      "application/vnd.jupyter.widget-view+json": {
       "model_id": "",
       "version_major": 2,
       "version_minor": 0
      },
      "text/plain": [
       "Canvas(toolbar=Toolbar(toolitems=[('Home', 'Reset original view', 'home', 'home'), ('Back', 'Back to previous …"
      ]
     },
     "metadata": {},
     "output_type": "display_data"
    },
    {
     "data": {
      "application/vnd.jupyter.widget-view+json": {
       "model_id": "",
       "version_major": 2,
       "version_minor": 0
      },
      "text/plain": [
       "Canvas(toolbar=Toolbar(toolitems=[('Home', 'Reset original view', 'home', 'home'), ('Back', 'Back to previous …"
      ]
     },
     "metadata": {},
     "output_type": "display_data"
    },
    {
     "data": {
      "application/vnd.jupyter.widget-view+json": {
       "model_id": "",
       "version_major": 2,
       "version_minor": 0
      },
      "text/plain": [
       "Canvas(toolbar=Toolbar(toolitems=[('Home', 'Reset original view', 'home', 'home'), ('Back', 'Back to previous …"
      ]
     },
     "metadata": {},
     "output_type": "display_data"
    },
    {
     "data": {
      "application/vnd.jupyter.widget-view+json": {
       "model_id": "",
       "version_major": 2,
       "version_minor": 0
      },
      "text/plain": [
       "Canvas(toolbar=Toolbar(toolitems=[('Home', 'Reset original view', 'home', 'home'), ('Back', 'Back to previous …"
      ]
     },
     "metadata": {},
     "output_type": "display_data"
    },
    {
     "data": {
      "application/vnd.jupyter.widget-view+json": {
       "model_id": "",
       "version_major": 2,
       "version_minor": 0
      },
      "text/plain": [
       "Canvas(toolbar=Toolbar(toolitems=[('Home', 'Reset original view', 'home', 'home'), ('Back', 'Back to previous …"
      ]
     },
     "metadata": {},
     "output_type": "display_data"
    },
    {
     "data": {
      "application/vnd.jupyter.widget-view+json": {
       "model_id": "",
       "version_major": 2,
       "version_minor": 0
      },
      "text/plain": [
       "Canvas(toolbar=Toolbar(toolitems=[('Home', 'Reset original view', 'home', 'home'), ('Back', 'Back to previous …"
      ]
     },
     "metadata": {},
     "output_type": "display_data"
    },
    {
     "data": {
      "application/vnd.jupyter.widget-view+json": {
       "model_id": "",
       "version_major": 2,
       "version_minor": 0
      },
      "text/plain": [
       "Canvas(toolbar=Toolbar(toolitems=[('Home', 'Reset original view', 'home', 'home'), ('Back', 'Back to previous …"
      ]
     },
     "metadata": {},
     "output_type": "display_data"
    },
    {
     "data": {
      "application/vnd.jupyter.widget-view+json": {
       "model_id": "",
       "version_major": 2,
       "version_minor": 0
      },
      "text/plain": [
       "Canvas(toolbar=Toolbar(toolitems=[('Home', 'Reset original view', 'home', 'home'), ('Back', 'Back to previous …"
      ]
     },
     "metadata": {},
     "output_type": "display_data"
    },
    {
     "data": {
      "application/vnd.jupyter.widget-view+json": {
       "model_id": "",
       "version_major": 2,
       "version_minor": 0
      },
      "text/plain": [
       "Canvas(toolbar=Toolbar(toolitems=[('Home', 'Reset original view', 'home', 'home'), ('Back', 'Back to previous …"
      ]
     },
     "metadata": {},
     "output_type": "display_data"
    },
    {
     "data": {
      "application/vnd.jupyter.widget-view+json": {
       "model_id": "",
       "version_major": 2,
       "version_minor": 0
      },
      "text/plain": [
       "Canvas(toolbar=Toolbar(toolitems=[('Home', 'Reset original view', 'home', 'home'), ('Back', 'Back to previous …"
      ]
     },
     "metadata": {},
     "output_type": "display_data"
    },
    {
     "data": {
      "application/vnd.jupyter.widget-view+json": {
       "model_id": "",
       "version_major": 2,
       "version_minor": 0
      },
      "text/plain": [
       "Canvas(toolbar=Toolbar(toolitems=[('Home', 'Reset original view', 'home', 'home'), ('Back', 'Back to previous …"
      ]
     },
     "metadata": {},
     "output_type": "display_data"
    },
    {
     "data": {
      "application/vnd.jupyter.widget-view+json": {
       "model_id": "",
       "version_major": 2,
       "version_minor": 0
      },
      "text/plain": [
       "Canvas(toolbar=Toolbar(toolitems=[('Home', 'Reset original view', 'home', 'home'), ('Back', 'Back to previous …"
      ]
     },
     "metadata": {},
     "output_type": "display_data"
    },
    {
     "data": {
      "application/vnd.jupyter.widget-view+json": {
       "model_id": "",
       "version_major": 2,
       "version_minor": 0
      },
      "text/plain": [
       "Canvas(toolbar=Toolbar(toolitems=[('Home', 'Reset original view', 'home', 'home'), ('Back', 'Back to previous …"
      ]
     },
     "metadata": {},
     "output_type": "display_data"
    },
    {
     "data": {
      "application/vnd.jupyter.widget-view+json": {
       "model_id": "",
       "version_major": 2,
       "version_minor": 0
      },
      "text/plain": [
       "Canvas(toolbar=Toolbar(toolitems=[('Home', 'Reset original view', 'home', 'home'), ('Back', 'Back to previous …"
      ]
     },
     "metadata": {},
     "output_type": "display_data"
    },
    {
     "data": {
      "application/vnd.jupyter.widget-view+json": {
       "model_id": "",
       "version_major": 2,
       "version_minor": 0
      },
      "text/plain": [
       "Canvas(toolbar=Toolbar(toolitems=[('Home', 'Reset original view', 'home', 'home'), ('Back', 'Back to previous …"
      ]
     },
     "metadata": {},
     "output_type": "display_data"
    },
    {
     "data": {
      "application/vnd.jupyter.widget-view+json": {
       "model_id": "",
       "version_major": 2,
       "version_minor": 0
      },
      "text/plain": [
       "Canvas(toolbar=Toolbar(toolitems=[('Home', 'Reset original view', 'home', 'home'), ('Back', 'Back to previous …"
      ]
     },
     "metadata": {},
     "output_type": "display_data"
    },
    {
     "data": {
      "application/vnd.jupyter.widget-view+json": {
       "model_id": "",
       "version_major": 2,
       "version_minor": 0
      },
      "text/plain": [
       "Canvas(toolbar=Toolbar(toolitems=[('Home', 'Reset original view', 'home', 'home'), ('Back', 'Back to previous …"
      ]
     },
     "metadata": {},
     "output_type": "display_data"
    },
    {
     "data": {
      "application/vnd.jupyter.widget-view+json": {
       "model_id": "",
       "version_major": 2,
       "version_minor": 0
      },
      "text/plain": [
       "Canvas(toolbar=Toolbar(toolitems=[('Home', 'Reset original view', 'home', 'home'), ('Back', 'Back to previous …"
      ]
     },
     "metadata": {},
     "output_type": "display_data"
    },
    {
     "data": {
      "application/vnd.jupyter.widget-view+json": {
       "model_id": "",
       "version_major": 2,
       "version_minor": 0
      },
      "text/plain": [
       "Canvas(toolbar=Toolbar(toolitems=[('Home', 'Reset original view', 'home', 'home'), ('Back', 'Back to previous …"
      ]
     },
     "metadata": {},
     "output_type": "display_data"
    },
    {
     "data": {
      "application/vnd.jupyter.widget-view+json": {
       "model_id": "",
       "version_major": 2,
       "version_minor": 0
      },
      "text/plain": [
       "Canvas(toolbar=Toolbar(toolitems=[('Home', 'Reset original view', 'home', 'home'), ('Back', 'Back to previous …"
      ]
     },
     "metadata": {},
     "output_type": "display_data"
    },
    {
     "data": {
      "application/vnd.jupyter.widget-view+json": {
       "model_id": "",
       "version_major": 2,
       "version_minor": 0
      },
      "text/plain": [
       "Canvas(toolbar=Toolbar(toolitems=[('Home', 'Reset original view', 'home', 'home'), ('Back', 'Back to previous …"
      ]
     },
     "metadata": {},
     "output_type": "display_data"
    },
    {
     "data": {
      "application/vnd.jupyter.widget-view+json": {
       "model_id": "",
       "version_major": 2,
       "version_minor": 0
      },
      "text/plain": [
       "Canvas(toolbar=Toolbar(toolitems=[('Home', 'Reset original view', 'home', 'home'), ('Back', 'Back to previous …"
      ]
     },
     "metadata": {},
     "output_type": "display_data"
    },
    {
     "data": {
      "application/vnd.jupyter.widget-view+json": {
       "model_id": "",
       "version_major": 2,
       "version_minor": 0
      },
      "text/plain": [
       "Canvas(toolbar=Toolbar(toolitems=[('Home', 'Reset original view', 'home', 'home'), ('Back', 'Back to previous …"
      ]
     },
     "metadata": {},
     "output_type": "display_data"
    },
    {
     "data": {
      "application/vnd.jupyter.widget-view+json": {
       "model_id": "",
       "version_major": 2,
       "version_minor": 0
      },
      "text/plain": [
       "Canvas(toolbar=Toolbar(toolitems=[('Home', 'Reset original view', 'home', 'home'), ('Back', 'Back to previous …"
      ]
     },
     "metadata": {},
     "output_type": "display_data"
    },
    {
     "data": {
      "application/vnd.jupyter.widget-view+json": {
       "model_id": "",
       "version_major": 2,
       "version_minor": 0
      },
      "text/plain": [
       "Canvas(toolbar=Toolbar(toolitems=[('Home', 'Reset original view', 'home', 'home'), ('Back', 'Back to previous …"
      ]
     },
     "metadata": {},
     "output_type": "display_data"
    },
    {
     "data": {
      "application/vnd.jupyter.widget-view+json": {
       "model_id": "",
       "version_major": 2,
       "version_minor": 0
      },
      "text/plain": [
       "Canvas(toolbar=Toolbar(toolitems=[('Home', 'Reset original view', 'home', 'home'), ('Back', 'Back to previous …"
      ]
     },
     "metadata": {},
     "output_type": "display_data"
    },
    {
     "data": {
      "application/vnd.jupyter.widget-view+json": {
       "model_id": "",
       "version_major": 2,
       "version_minor": 0
      },
      "text/plain": [
       "Canvas(toolbar=Toolbar(toolitems=[('Home', 'Reset original view', 'home', 'home'), ('Back', 'Back to previous …"
      ]
     },
     "metadata": {},
     "output_type": "display_data"
    },
    {
     "data": {
      "application/vnd.jupyter.widget-view+json": {
       "model_id": "",
       "version_major": 2,
       "version_minor": 0
      },
      "text/plain": [
       "Canvas(toolbar=Toolbar(toolitems=[('Home', 'Reset original view', 'home', 'home'), ('Back', 'Back to previous …"
      ]
     },
     "metadata": {},
     "output_type": "display_data"
    },
    {
     "data": {
      "application/vnd.jupyter.widget-view+json": {
       "model_id": "",
       "version_major": 2,
       "version_minor": 0
      },
      "text/plain": [
       "Canvas(toolbar=Toolbar(toolitems=[('Home', 'Reset original view', 'home', 'home'), ('Back', 'Back to previous …"
      ]
     },
     "metadata": {},
     "output_type": "display_data"
    },
    {
     "data": {
      "application/vnd.jupyter.widget-view+json": {
       "model_id": "",
       "version_major": 2,
       "version_minor": 0
      },
      "text/plain": [
       "Canvas(toolbar=Toolbar(toolitems=[('Home', 'Reset original view', 'home', 'home'), ('Back', 'Back to previous …"
      ]
     },
     "metadata": {},
     "output_type": "display_data"
    },
    {
     "data": {
      "application/vnd.jupyter.widget-view+json": {
       "model_id": "",
       "version_major": 2,
       "version_minor": 0
      },
      "text/plain": [
       "Canvas(toolbar=Toolbar(toolitems=[('Home', 'Reset original view', 'home', 'home'), ('Back', 'Back to previous …"
      ]
     },
     "metadata": {},
     "output_type": "display_data"
    },
    {
     "data": {
      "application/vnd.jupyter.widget-view+json": {
       "model_id": "",
       "version_major": 2,
       "version_minor": 0
      },
      "text/plain": [
       "Canvas(toolbar=Toolbar(toolitems=[('Home', 'Reset original view', 'home', 'home'), ('Back', 'Back to previous …"
      ]
     },
     "metadata": {},
     "output_type": "display_data"
    },
    {
     "data": {
      "application/vnd.jupyter.widget-view+json": {
       "model_id": "",
       "version_major": 2,
       "version_minor": 0
      },
      "text/plain": [
       "Canvas(toolbar=Toolbar(toolitems=[('Home', 'Reset original view', 'home', 'home'), ('Back', 'Back to previous …"
      ]
     },
     "metadata": {},
     "output_type": "display_data"
    },
    {
     "data": {
      "application/vnd.jupyter.widget-view+json": {
       "model_id": "",
       "version_major": 2,
       "version_minor": 0
      },
      "text/plain": [
       "Canvas(toolbar=Toolbar(toolitems=[('Home', 'Reset original view', 'home', 'home'), ('Back', 'Back to previous …"
      ]
     },
     "metadata": {},
     "output_type": "display_data"
    },
    {
     "data": {
      "application/vnd.jupyter.widget-view+json": {
       "model_id": "",
       "version_major": 2,
       "version_minor": 0
      },
      "text/plain": [
       "Canvas(toolbar=Toolbar(toolitems=[('Home', 'Reset original view', 'home', 'home'), ('Back', 'Back to previous …"
      ]
     },
     "metadata": {},
     "output_type": "display_data"
    },
    {
     "data": {
      "application/vnd.jupyter.widget-view+json": {
       "model_id": "",
       "version_major": 2,
       "version_minor": 0
      },
      "text/plain": [
       "Canvas(toolbar=Toolbar(toolitems=[('Home', 'Reset original view', 'home', 'home'), ('Back', 'Back to previous …"
      ]
     },
     "metadata": {},
     "output_type": "display_data"
    },
    {
     "data": {
      "application/vnd.jupyter.widget-view+json": {
       "model_id": "",
       "version_major": 2,
       "version_minor": 0
      },
      "text/plain": [
       "Canvas(toolbar=Toolbar(toolitems=[('Home', 'Reset original view', 'home', 'home'), ('Back', 'Back to previous …"
      ]
     },
     "metadata": {},
     "output_type": "display_data"
    },
    {
     "data": {
      "application/vnd.jupyter.widget-view+json": {
       "model_id": "",
       "version_major": 2,
       "version_minor": 0
      },
      "text/plain": [
       "Canvas(toolbar=Toolbar(toolitems=[('Home', 'Reset original view', 'home', 'home'), ('Back', 'Back to previous …"
      ]
     },
     "metadata": {},
     "output_type": "display_data"
    },
    {
     "data": {
      "application/vnd.jupyter.widget-view+json": {
       "model_id": "",
       "version_major": 2,
       "version_minor": 0
      },
      "text/plain": [
       "Canvas(toolbar=Toolbar(toolitems=[('Home', 'Reset original view', 'home', 'home'), ('Back', 'Back to previous …"
      ]
     },
     "metadata": {},
     "output_type": "display_data"
    },
    {
     "data": {
      "application/vnd.jupyter.widget-view+json": {
       "model_id": "",
       "version_major": 2,
       "version_minor": 0
      },
      "text/plain": [
       "Canvas(toolbar=Toolbar(toolitems=[('Home', 'Reset original view', 'home', 'home'), ('Back', 'Back to previous …"
      ]
     },
     "metadata": {},
     "output_type": "display_data"
    },
    {
     "data": {
      "application/vnd.jupyter.widget-view+json": {
       "model_id": "",
       "version_major": 2,
       "version_minor": 0
      },
      "text/plain": [
       "Canvas(toolbar=Toolbar(toolitems=[('Home', 'Reset original view', 'home', 'home'), ('Back', 'Back to previous …"
      ]
     },
     "metadata": {},
     "output_type": "display_data"
    },
    {
     "data": {
      "application/vnd.jupyter.widget-view+json": {
       "model_id": "",
       "version_major": 2,
       "version_minor": 0
      },
      "text/plain": [
       "Canvas(toolbar=Toolbar(toolitems=[('Home', 'Reset original view', 'home', 'home'), ('Back', 'Back to previous …"
      ]
     },
     "metadata": {},
     "output_type": "display_data"
    },
    {
     "data": {
      "application/vnd.jupyter.widget-view+json": {
       "model_id": "",
       "version_major": 2,
       "version_minor": 0
      },
      "text/plain": [
       "Canvas(toolbar=Toolbar(toolitems=[('Home', 'Reset original view', 'home', 'home'), ('Back', 'Back to previous …"
      ]
     },
     "metadata": {},
     "output_type": "display_data"
    },
    {
     "data": {
      "application/vnd.jupyter.widget-view+json": {
       "model_id": "",
       "version_major": 2,
       "version_minor": 0
      },
      "text/plain": [
       "Canvas(toolbar=Toolbar(toolitems=[('Home', 'Reset original view', 'home', 'home'), ('Back', 'Back to previous …"
      ]
     },
     "metadata": {},
     "output_type": "display_data"
    },
    {
     "data": {
      "application/vnd.jupyter.widget-view+json": {
       "model_id": "",
       "version_major": 2,
       "version_minor": 0
      },
      "text/plain": [
       "Canvas(toolbar=Toolbar(toolitems=[('Home', 'Reset original view', 'home', 'home'), ('Back', 'Back to previous …"
      ]
     },
     "metadata": {},
     "output_type": "display_data"
    },
    {
     "data": {
      "application/vnd.jupyter.widget-view+json": {
       "model_id": "",
       "version_major": 2,
       "version_minor": 0
      },
      "text/plain": [
       "Canvas(toolbar=Toolbar(toolitems=[('Home', 'Reset original view', 'home', 'home'), ('Back', 'Back to previous …"
      ]
     },
     "metadata": {},
     "output_type": "display_data"
    },
    {
     "data": {
      "application/vnd.jupyter.widget-view+json": {
       "model_id": "",
       "version_major": 2,
       "version_minor": 0
      },
      "text/plain": [
       "Canvas(toolbar=Toolbar(toolitems=[('Home', 'Reset original view', 'home', 'home'), ('Back', 'Back to previous …"
      ]
     },
     "metadata": {},
     "output_type": "display_data"
    },
    {
     "data": {
      "application/vnd.jupyter.widget-view+json": {
       "model_id": "",
       "version_major": 2,
       "version_minor": 0
      },
      "text/plain": [
       "Canvas(toolbar=Toolbar(toolitems=[('Home', 'Reset original view', 'home', 'home'), ('Back', 'Back to previous …"
      ]
     },
     "metadata": {},
     "output_type": "display_data"
    },
    {
     "data": {
      "application/vnd.jupyter.widget-view+json": {
       "model_id": "",
       "version_major": 2,
       "version_minor": 0
      },
      "text/plain": [
       "Canvas(toolbar=Toolbar(toolitems=[('Home', 'Reset original view', 'home', 'home'), ('Back', 'Back to previous …"
      ]
     },
     "metadata": {},
     "output_type": "display_data"
    },
    {
     "data": {
      "application/vnd.jupyter.widget-view+json": {
       "model_id": "",
       "version_major": 2,
       "version_minor": 0
      },
      "text/plain": [
       "Canvas(toolbar=Toolbar(toolitems=[('Home', 'Reset original view', 'home', 'home'), ('Back', 'Back to previous …"
      ]
     },
     "metadata": {},
     "output_type": "display_data"
    },
    {
     "data": {
      "application/vnd.jupyter.widget-view+json": {
       "model_id": "",
       "version_major": 2,
       "version_minor": 0
      },
      "text/plain": [
       "Canvas(toolbar=Toolbar(toolitems=[('Home', 'Reset original view', 'home', 'home'), ('Back', 'Back to previous …"
      ]
     },
     "metadata": {},
     "output_type": "display_data"
    },
    {
     "data": {
      "application/vnd.jupyter.widget-view+json": {
       "model_id": "",
       "version_major": 2,
       "version_minor": 0
      },
      "text/plain": [
       "Canvas(toolbar=Toolbar(toolitems=[('Home', 'Reset original view', 'home', 'home'), ('Back', 'Back to previous …"
      ]
     },
     "metadata": {},
     "output_type": "display_data"
    },
    {
     "data": {
      "application/vnd.jupyter.widget-view+json": {
       "model_id": "",
       "version_major": 2,
       "version_minor": 0
      },
      "text/plain": [
       "Canvas(toolbar=Toolbar(toolitems=[('Home', 'Reset original view', 'home', 'home'), ('Back', 'Back to previous …"
      ]
     },
     "metadata": {},
     "output_type": "display_data"
    },
    {
     "data": {
      "application/vnd.jupyter.widget-view+json": {
       "model_id": "",
       "version_major": 2,
       "version_minor": 0
      },
      "text/plain": [
       "Canvas(toolbar=Toolbar(toolitems=[('Home', 'Reset original view', 'home', 'home'), ('Back', 'Back to previous …"
      ]
     },
     "metadata": {},
     "output_type": "display_data"
    },
    {
     "data": {
      "application/vnd.jupyter.widget-view+json": {
       "model_id": "",
       "version_major": 2,
       "version_minor": 0
      },
      "text/plain": [
       "Canvas(toolbar=Toolbar(toolitems=[('Home', 'Reset original view', 'home', 'home'), ('Back', 'Back to previous …"
      ]
     },
     "metadata": {},
     "output_type": "display_data"
    },
    {
     "data": {
      "application/vnd.jupyter.widget-view+json": {
       "model_id": "",
       "version_major": 2,
       "version_minor": 0
      },
      "text/plain": [
       "Canvas(toolbar=Toolbar(toolitems=[('Home', 'Reset original view', 'home', 'home'), ('Back', 'Back to previous …"
      ]
     },
     "metadata": {},
     "output_type": "display_data"
    },
    {
     "data": {
      "application/vnd.jupyter.widget-view+json": {
       "model_id": "",
       "version_major": 2,
       "version_minor": 0
      },
      "text/plain": [
       "Canvas(toolbar=Toolbar(toolitems=[('Home', 'Reset original view', 'home', 'home'), ('Back', 'Back to previous …"
      ]
     },
     "metadata": {},
     "output_type": "display_data"
    },
    {
     "data": {
      "application/vnd.jupyter.widget-view+json": {
       "model_id": "",
       "version_major": 2,
       "version_minor": 0
      },
      "text/plain": [
       "Canvas(toolbar=Toolbar(toolitems=[('Home', 'Reset original view', 'home', 'home'), ('Back', 'Back to previous …"
      ]
     },
     "metadata": {},
     "output_type": "display_data"
    },
    {
     "data": {
      "application/vnd.jupyter.widget-view+json": {
       "model_id": "",
       "version_major": 2,
       "version_minor": 0
      },
      "text/plain": [
       "Canvas(toolbar=Toolbar(toolitems=[('Home', 'Reset original view', 'home', 'home'), ('Back', 'Back to previous …"
      ]
     },
     "metadata": {},
     "output_type": "display_data"
    },
    {
     "data": {
      "application/vnd.jupyter.widget-view+json": {
       "model_id": "",
       "version_major": 2,
       "version_minor": 0
      },
      "text/plain": [
       "Canvas(toolbar=Toolbar(toolitems=[('Home', 'Reset original view', 'home', 'home'), ('Back', 'Back to previous …"
      ]
     },
     "metadata": {},
     "output_type": "display_data"
    }
   ],
   "source": [
    "particle_ids = [373] # list of particle ids \n",
    "phase = True\n",
    "pylab.ion()\n",
    "trajectory_specifier = 'stub_length' + str(sl).zfill(3) + '_' + selection_rule_in_words\n",
    "print(trajectory_specifier)\n",
    "for i in particle_ids:   #  you can also generate a random list of numbers from the set of existing ids, that you can get from list(set(filtered_trajectories.particle))\n",
    "    tracking.trajectory_movie(dataset_location, directory_now, trajectory_specifier, particle_id = i, superimpose_phase = phase)"
   ]
  },
  {
   "cell_type": "markdown",
   "metadata": {},
   "source": [
    "## Part III: from tracks to msd.\n",
    "First, calculate the individual msds (imsds) and the ensemble msd (emsd). Then, from the imsds obtain values for the diffusion coefficient and for the scaling exponent.\n",
    "\n",
    "In tracking.calculate_msds() you can specify if you wish to ignore frames beyond a certain framenumber, using \"ff\" in line 2 (for \"final frame\"). \n"
   ]
  },
  {
   "cell_type": "code",
   "execution_count": 39,
   "metadata": {},
   "outputs": [
    {
     "name": "stdout",
     "output_type": "stream",
     "text": [
      "selection rule:\n",
      "snr_greater_than_1p0_\n",
      "Loaded trajectories: /Users/sofia/Documents/LEB/PolyP/code/tracking_pipeline_shared/packet/data/210518_0h_bLR1_0001/analysis/diameter9_minmass4000_percentile65/search_range4_memory10/filtered_trajectories_stub_length010_snr_greater_than_1p0_.pkl\n",
      "Final frame: 99.\n",
      "I am including up to frame 099.\n",
      "no imsds saved for these parameters\n",
      "no emsd saved  for these parameters\n"
     ]
    }
   ],
   "source": [
    "# recalculate = True\n",
    "ff = None # final frame \n",
    "imsds = {}\n",
    "emsd = {}\n",
    "\n",
    "imsds['all'], emsd['all'], msd_label =  tracking.calculate_msds(dataset_location + directory_now, sl, px_to_micron = px_to_micron, fps = acquisition_framerate, trajectory_type = 'filtered', selection_rule=selection_rule, final_frame=None, recalculate_msds=True)"
   ]
  },
  {
   "cell_type": "markdown",
   "metadata": {},
   "source": [
    "Let's look at the msds! <br>\n",
    "To make a linear plot, in what follows choose ll = False (for \"not log log\"). "
   ]
  },
  {
   "cell_type": "code",
   "execution_count": 40,
   "metadata": {},
   "outputs": [
    {
     "data": {
      "application/vnd.jupyter.widget-view+json": {
       "model_id": "f69889a17bb8414e8bf171b46d0e1b3d",
       "version_major": 2,
       "version_minor": 0
      },
      "text/plain": [
       "Canvas(toolbar=Toolbar(toolitems=[('Home', 'Reset original view', 'home', 'home'), ('Back', 'Back to previous …"
      ]
     },
     "metadata": {},
     "output_type": "display_data"
    },
    {
     "data": {
      "application/vnd.jupyter.widget-view+json": {
       "model_id": "685d5898f1b2432ebc55b264ae267414",
       "version_major": 2,
       "version_minor": 0
      },
      "text/plain": [
       "Canvas(toolbar=Toolbar(toolitems=[('Home', 'Reset original view', 'home', 'home'), ('Back', 'Back to previous …"
      ]
     },
     "metadata": {},
     "output_type": "display_data"
    }
   ],
   "source": [
    "ll = True\n",
    "pylab.close('imsds')\n",
    "pylab.figure('imsds')\n",
    "pylab.xlabel('time lag (s)')\n",
    "pylab.ylabel('msd (μm^2)')\n",
    "\n",
    "pylab.close('emsd')\n",
    "pylab.figure('emsd')\n",
    "pylab.xlabel('time lag (s)')\n",
    "pylab.ylabel('msd (μm^2)')\n",
    "\n",
    "plot_tracking_results.plot_msds(imsds = imsds['all'], emsd = emsd['all'], loglog = ll, color = '#0000FF', alpha_imsd = 0.02, emsd_label = None, interactive_plot = True);"
   ]
  },
  {
   "cell_type": "markdown",
   "metadata": {},
   "source": [
    "Before fitting these curves to obtain values for the diffusion coefficient and scaling exponent, let us take a look at a couple of basic features. <br>\n",
    "First - how many datapoints per time lag? <br>\n",
    "Second - how many points do trajectories have?"
   ]
  },
  {
   "cell_type": "code",
   "execution_count": 41,
   "metadata": {},
   "outputs": [
    {
     "data": {
      "application/vnd.jupyter.widget-view+json": {
       "model_id": "a423c710741a411599140e64ab4f1b21",
       "version_major": 2,
       "version_minor": 0
      },
      "text/plain": [
       "Canvas(toolbar=Toolbar(toolitems=[('Home', 'Reset original view', 'home', 'home'), ('Back', 'Back to previous …"
      ]
     },
     "metadata": {},
     "output_type": "display_data"
    },
    {
     "data": {
      "text/plain": [
       "Text(0.5, 0, 'time lag (s)')"
      ]
     },
     "execution_count": 41,
     "metadata": {},
     "output_type": "execute_result"
    }
   ],
   "source": [
    "pylab.close('number of measurements')\n",
    "pylab.figure('number of measurements')\n",
    "pylab.plot(emsd['all'].index, emsd['all'].N, '.')\n",
    "pylab.ylabel('number of datapoints')\n",
    "pylab.xlabel('time lag (s)')"
   ]
  },
  {
   "cell_type": "code",
   "execution_count": 42,
   "metadata": {},
   "outputs": [
    {
     "data": {
      "application/vnd.jupyter.widget-view+json": {
       "model_id": "838ca9761ac444ed9f7ed987accb59ca",
       "version_major": 2,
       "version_minor": 0
      },
      "text/plain": [
       "Canvas(toolbar=Toolbar(toolitems=[('Home', 'Reset original view', 'home', 'home'), ('Back', 'Back to previous …"
      ]
     },
     "metadata": {},
     "output_type": "display_data"
    },
    {
     "data": {
      "text/plain": [
       "Text(0.5, 1.0, 'total number of trajectories: 617')"
      ]
     },
     "execution_count": 42,
     "metadata": {},
     "output_type": "execute_result"
    }
   ],
   "source": [
    "trajectory_points = []\n",
    "for i in set(filtered_trajectories.particle):\n",
    "    #npoints = len()\n",
    "    trajectory_points.append(len(filtered_trajectories[filtered_trajectories.particle==i]))\n",
    "\n",
    "pylab.close('number of points in the trajetories')    \n",
    "pylab.figure('number of points in the trajetories')\n",
    "pylab.hist(trajectory_points, bins = 10)\n",
    "pylab.xlabel('number of points')\n",
    "pylab.ylabel('occurences')\n",
    "pylab.title('total number of trajectories: ' + str(len(set(filtered_trajectories.particle))) )"
   ]
  },
  {
   "cell_type": "markdown",
   "metadata": {},
   "source": [
    "### Congratulations! You have made it from a raw movie of moving spots, to the msds."
   ]
  },
  {
   "cell_type": "markdown",
   "metadata": {},
   "source": [
    "## Part IV: sanity-checks."
   ]
  },
  {
   "cell_type": "markdown",
   "metadata": {},
   "source": [
    "It is time to estimate the effects of possible sources of error in the final result. <br>\n",
    "The main two sources of error to watch out for are static and dynamic error. <br>\n",
    "There is also an error associated with the finite number of measurements per time lag; however this is already included in the form of error bars on the msd. These errorbars represent the statistical error associated with the total number of independent measurements per time lag; this number is calculated by trackpy, which, in turn, is based on Qian et al, Biophysical journal 60.4 (1991): 910."
   ]
  },
  {
   "cell_type": "markdown",
   "metadata": {},
   "source": [
    "### static error\n",
    "The main source of static error in our case is the signal-to-noise ratio. <br>\n",
    "To see if our results are sensitive to the signal-to-noise ratio, in what follows we will investigate whether the msd of the brighter spots is different from the msd of the darker spots. Here we calculate the signal-to-noise ratio with trackpy, which in turn is based on the method described in Savin and Doyle. <br>\n",
    "\n",
    "First, let us take a look at the signal-to-noise ratio. <br>\n",
    "If the movie has fiducials that you have not filtered out in tracking, they will appear right away as occurrences with exceptionally high SNR. In that case you can use the histogram below to estimate the fiducial SNR and block it out for this sanity check, as will be explained below. "
   ]
  },
  {
   "cell_type": "code",
   "execution_count": null,
   "metadata": {},
   "outputs": [],
   "source": [
    "pylab.close('SNR, whole movie')\n",
    "pylab.figure('SNR, whole movie')\n",
    "pylab.title('SNR, whole movie')\n",
    "\n",
    "#t_now = filtered_trajectories[filtered_trajectories.snr < 50]\n",
    "t_now = filtered_trajectories\n",
    "pylab.hist(t_now.snr, bins = 30, color = '#0000FF', edgecolor = '#000000');\n",
    "pylab.xlabel('SNR')\n",
    "pylab.ylabel('occurences')"
   ]
  },
  {
   "cell_type": "markdown",
   "metadata": {},
   "source": [
    "Let us also take a look at how the SNR of the movie changes with time, i.e. how significant bleaching is. \n",
    "You can specify the final frame in line 1 below."
   ]
  },
  {
   "cell_type": "code",
   "execution_count": null,
   "metadata": {},
   "outputs": [],
   "source": [
    "final_frame = 99\n",
    "\n",
    "pylab.close('SNR, beginning and end')\n",
    "pylab.figure('SNR, beginning and end')\n",
    "pylab.title('SNR, beginning and end')\n",
    "\n",
    "t_now = filtered_trajectories[filtered_trajectories.snr < 50]\n",
    "pylab.hist(t_now[t_now.frame==0].snr, bins = 30, color = '#0000FF', edgecolor = '#000000', alpha = 0.5, label= 'frame   0');\n",
    "pylab.hist(t_now[t_now.frame==final_frame].snr, bins = 30, color = '#00AAFF', edgecolor = '#000000', alpha = 0.5, label = 'frame ' + str(final_frame));\n",
    "pylab.legend()\n",
    "pylab.xlabel('SNR')\n",
    "pylab.ylabel('occurences')"
   ]
  },
  {
   "cell_type": "markdown",
   "metadata": {},
   "source": [
    "Now bin the SNR into 3 bins and calculate the msd per bin. <br>\n",
    "This step can be a little tricky. If you simply divide the spots into bins of equal width in snr, you will very likely end up with a very different number of trajectories in each bin. This is because, as you can see in the histograms of SNR above, most spots have a certain SNR. So it may be that there are as many trajectories in one central SNR bin as there are in several SNR bins towards the edges. <br>\n",
    "\n",
    "For this reason here we will choose the SNR bins based on quantiles. This will allow us to pick bins that always contain the same number of fluorescent points. Note that still, this will not necessarily lead to the same number of trajectories in each bin; but it will help. \n",
    "\n",
    "You can choose the number of quantiles in line 1 of the following cell."
   ]
  },
  {
   "cell_type": "code",
   "execution_count": null,
   "metadata": {},
   "outputs": [],
   "source": [
    "number_of_quantiles = 3.\n",
    "quantiles = []\n",
    "\n",
    "for i in numpy.arange(0, 1.0, 1./(number_of_quantiles)):\n",
    "    quantiles.append(t_now.quantile(i, 0).snr)\n",
    "\n",
    "quantiles.append(t_now.snr.max())\n",
    "print('For ' + str(int(number_of_quantiles)) + ' quantiles, use the following bin limits: ')\n",
    "print(quantiles)"
   ]
  },
  {
   "cell_type": "markdown",
   "metadata": {},
   "source": [
    "In the cell below you can filter out fiducials, if there are any. <br>\n",
    "To do that, set the value for max_snr to be less than the SNR value of these spots, in line 1 below."
   ]
  },
  {
   "cell_type": "code",
   "execution_count": null,
   "metadata": {},
   "outputs": [],
   "source": [
    "max_snr = 50\n",
    "\n",
    "pylab.close('SNR, whole movie, ' + str(int(number_of_quantiles)) + ' bins')\n",
    "pylab.figure('SNR, whole movie, ' + str(int(number_of_quantiles)) + ' bins')\n",
    "pylab.title('SNR, whole movie, ' + str(int(number_of_quantiles)) + ' bins')\n",
    "\n",
    "t_now = filtered_trajectories[filtered_trajectories.snr < max_snr]  # in case there are fiducials with SNR ~ max_snr\n",
    "\n",
    "pylab.hist(t_now.snr, bins = 30, color = '#0000FF', edgecolor = '#000000');\n",
    "pylab.xlabel('SNR')\n",
    "pylab.ylabel('occurences')\n",
    "for i in quantiles:\n",
    "    pylab.axvline(i, color='#000000', linestyle = '--')"
   ]
  },
  {
   "cell_type": "markdown",
   "metadata": {},
   "source": [
    "Now that we have decided how to divide the spots according to their SNR, we can make trajectories that only contain points within one SNR bin. <br>\n",
    "To achieve this, we track the movie again once per SNR bin and in each case we only retain points with SNR within this bin; then we link those points. In this way we ensure that each new set of trajectories - one set per SNR bin - only includes points within the specified SNR range. <br>\n",
    "Localization uncertainty can appear as 'fake mobility'. Therefore, if static error is significant for any of these SNR bins, the resulting msds will be different: the msd corresponding to loci with lower SNR will appear higher than the msd corresponding to loci with higher SNR.  <br>\n",
    "If static error is not significant, then the resulting msds should be equivalent and independent of SNR. \n",
    "\n",
    "As before, you can specify whether you want to see the tracked particles over the phase image by specifying \"phase = True\"."
   ]
  },
  {
   "cell_type": "code",
   "execution_count": null,
   "metadata": {},
   "outputs": [],
   "source": [
    "t = {}  # initializing a dictionary of trajectories, where each entry will correspond to one SNR bin"
   ]
  },
  {
   "cell_type": "code",
   "execution_count": null,
   "metadata": {
    "scrolled": true
   },
   "outputs": [],
   "source": [
    "phase = True\n",
    "for i in numpy.arange(len(quantiles)-1):\n",
    "    print(i)\n",
    "    selection_rule = [['snr', 'inbetween', [quantiles[i], quantiles[i+1]]]]\n",
    "    print(selection_rule)\n",
    "    criterion = selection_rule[0][0] + '-' + selection_rule[0][1] + '-' + str(round(selection_rule[0][2][0],2)) + '-' + str(round(selection_rule[0][2][1],2))\n",
    "    t[criterion] = tracking.track(dataset_location, d, mm, sr, m, sl, superimpose_phase=phase, selection_rule=selection_rule, plot = False, use_if_existing_coordinates=False)[2];\n",
    "    \n",
    "t['all'] =  tracking.track(dataset_location, d, mm, sr, m, sl, superimpose_phase=phase, selection_rule=None, plot = False, use_if_existing_coordinates=False)[2];\n",
    "# t['all'] = filtered_trajectories"
   ]
  },
  {
   "cell_type": "markdown",
   "metadata": {},
   "source": [
    "Time to see if the msds from these subsets of spots differ. First we will calculate them, then we will plot them. <br>\n",
    "You can again specify the final frame of this calculation in line 1 below."
   ]
  },
  {
   "cell_type": "code",
   "execution_count": null,
   "metadata": {
    "scrolled": false
   },
   "outputs": [],
   "source": [
    "ff = None\n",
    "\n",
    "imsds = {}\n",
    "emsd = {}\n",
    "\n",
    "for i in t.keys():\n",
    "    print(i)\n",
    "    if i == 'all':\n",
    "        selection_rule = None\n",
    "        print('selection rule:')\n",
    "        print(selection_rule)\n",
    "    else:\n",
    "        quantity = i.split('-')[0]\n",
    "        relation = i.split('-')[1]\n",
    "        values =  [float(x) for x in list(i.split('-')[2:4])]\n",
    "        print('selection rule:')\n",
    "        selection_rule = [[quantity, relation, values]]\n",
    "        print(selection_rule)\n",
    "    imsds[i], emsd[i], msd_label = tracking.calculate_msds(dataset_location + directory_now, sl, px_to_micron = px_to_micron, fps = acquisition_framerate, trajectory_type = 'filtered', selection_rule=selection_rule, final_frame = ff, recalculate_msds=True);\n",
    "   "
   ]
  },
  {
   "cell_type": "markdown",
   "metadata": {},
   "source": [
    "In the following plots, choose ll = True in line 1 if you want the log-log plots."
   ]
  },
  {
   "cell_type": "code",
   "execution_count": null,
   "metadata": {
    "scrolled": false
   },
   "outputs": [],
   "source": [
    "ll = True\n",
    "\n",
    "color = {}\n",
    "c = []\n",
    "labels = []\n",
    "\n",
    "for i in numpy.linspace(255, 65280, 7):\n",
    "    i = int(i)\n",
    "    j = \"#%06X\" %(i, )\n",
    "    c.append(j)\n",
    "   \n",
    " \n",
    "for i, j in enumerate(imsds.keys()):    \n",
    "    color[j] = c[i]\n",
    "\n",
    "pylab.close('imsds, different SNR bins')\n",
    "pylab.figure('imsds, different SNR bins', figsize = (8,8))\n",
    "\n",
    "pylab.close('emsd, different SNR bins')\n",
    "pylab.figure('emsd, different SNR bins')\n",
    "\n",
    "for i in imsds.keys():\n",
    "    plot_tracking_results.plot_msds(imsds = imsds[i], emsd = emsd[i], loglog = ll, color = color[i], symbol = '.', alpha_imsd = 0.1, alpha_emsd = 1.0, linewidth = 2, legend_content = i, legend_location=None, emsd_label=i, interactive_plot = True, new_imsd_figure=True, new_emsd_figure=True, plot_imsds=True, imsd_title = 'imsds, different SNR bins', emsd_title = 'emsd, different SNR bins', edgecolor=None);\n",
    "    #print(i)\n",
    "    j = i + '\\n' + str(len(imsds[i].columns)) + ' particles'\n",
    "    labels.append(j)\n",
    "pylab.legend(labels, loc = 2)\n",
    "#pylab.ylim(0, 0.06)\n",
    "pylab.axvline(emsd[i].index.max()/2., color = '#000000', linestyle = '--')\n"
   ]
  },
  {
   "cell_type": "markdown",
   "metadata": {},
   "source": [
    "In this case, the msd seems unaltered by the SNR of the spots that participated in its calculation, within error. <br>\n",
    "The vertical line marks half of the total movie duration. It is common practice to give more gravity to the msd up to this time point, because beyond that you no longer have more than one completely independent set of displacement measurements. <br>\n",
    "\n",
    "And this brings us to the end of this tracking pipeline. "
   ]
  },
  {
   "cell_type": "markdown",
   "metadata": {},
   "source": [
    "### The following two sections are under editing. We might not keep them. Followup on this by June 16th. "
   ]
  },
  {
   "cell_type": "markdown",
   "metadata": {},
   "source": [
    "### dynamic error - might be removed, we have not needed it\n",
    "The formula we will use to include dynamic error in the msd comes from Savin & Doyle, Biophysical Journal 88, 623--638 (2005). It is a formula for the measured msd in the presence of dynamic error. As such, it depends not only on the diffusion coefficient and scaling exponent, but also on the exposure time. In this implementation we are also including a parameter for a constant offset, as this is often observed and also expected from static error. <br>\n",
    "\n",
    "First, let us try to fit the data to this expression. Note that this expression is a complex polynomial and the fits do not converge easily. Therefore, let us use the results from the fit above as an initial guess."
   ]
  },
  {
   "cell_type": "code",
   "execution_count": null,
   "metadata": {},
   "outputs": [],
   "source": [
    "exposure_time = 0.03 # seconds\n",
    "\n",
    "current_emsd_key = 'all'\n",
    "current_emsd_dataframe = emsd[current_emsd_key]\n",
    "#current_emsd_dataframe = current_emsd_dataframe.iloc[20:150,:]  # here you can choose to fit to a part of the emsd curve\n",
    "\n",
    "linear_fit_with_derror, linear_fit_with_derror_covariance = scipy.optimize.curve_fit(tracking.msd_with_dynamic_error, current_emsd_dataframe.index, current_emsd_dataframe.msd,\n",
    "                                                                                     p0 = numpy.array([linear_fit[0], linear_fit[1], linear_fit[2], exposure_time]), \n",
    "                                                                                    # sigma = emsd[k].error_finiteness\n",
    "                                                                                    )\n",
    "\n",
    "print('Fit results with dynamic error:\\nDcoeff = %f +/- %f um^2/s\\nexponent = %f +/- %f\\noffset = %f+/- %f  um^2\\nexposure time = %f.' %(linear_fit_with_derror[0], \n",
    "                                                                                              numpy.sqrt(numpy.diag(linear_fit_with_derror_covariance))[0], \n",
    "                                                                                              linear_fit_with_derror[1], \n",
    "                                                                                              numpy.sqrt(numpy.diag(linear_fit_with_derror_covariance))[1], \n",
    "                                                                                              linear_fit_with_derror[2], \n",
    "                                                                                              numpy.sqrt(numpy.diag(linear_fit_with_derror_covariance))[2],\n",
    "                                                                                              linear_fit_with_derror[3]\n",
    "                                                                                          ))\n",
    "\n",
    "print('\\nFit results without dynamic error:\\nDcoeff = %f +/- %f um^2/s\\nexponent = %f +/- %f\\noffset = %f +/- %f um^2.' %(linear_fit[0], \n",
    "                                                                                              numpy.sqrt(numpy.diag(linear_fit_covariance))[0], \n",
    "                                                                                              linear_fit[1], \n",
    "                                                                                              numpy.sqrt(numpy.diag(linear_fit_covariance))[1], \n",
    "                                                                                              linear_fit[2], \n",
    "                                                                                              numpy.sqrt(numpy.diag(linear_fit_covariance))[2]\n",
    "                                                                                             ))\n",
    "\n",
    "pylab.close('fit to subdiffusive msd with dynamic error, and with constant offset');\n",
    "pylab.figure('fit to subdiffusive msd with dynamic error, and with constant offset', figsize = (5,5));\n",
    "pylab.title('fit to subdiffusive msd with dynamic error,\\nand with constant offset');\n",
    "\n",
    "pylab.errorbar(current_emsd_dataframe.index, current_emsd_dataframe.msd, yerr = current_emsd_dataframe.error_finiteness, xerr = None, fmt = '.', alpha = 1, color = '#0000FF', label = 'data')\n",
    "pylab.plot(current_emsd_dataframe.index, tracking.msd_general_diffusion(current_emsd_dataframe.index, Dcoeff = linear_fit[0], exponent = linear_fit[1], offset=linear_fit[2]), 'c-', linewidth = 2, label = 'fit to msd')\n",
    "pylab.plot(current_emsd_dataframe.index, tracking.msd_with_dynamic_error(current_emsd_dataframe.index, Dcoeff = linear_fit_with_derror[0], exponent = linear_fit_with_derror[1], offset=linear_fit_with_derror[2]), '#FFAA00', linestyle = '--', linewidth = 2, label = 'fit to msd with dynamic error')\n",
    "\n",
    "pylab.legend(loc=2, frameon = False)\n",
    "pylab.ylabel(r'$\\langle \\Delta r^2 \\rangle$ [$\\mu$m$^2$]');\n",
    "pylab.xlabel('time lag (s)');\n",
    "\n",
    "pylab.text(12, 0.015, 'Dcoeff = %f +/- %f um^2/s\\nexponent = %f +/- %f\\noffset = %f +/- %f um^2' %(linear_fit_with_derror[0], \n",
    "                                                                                              numpy.sqrt(numpy.diag(linear_fit_with_derror_covariance))[0], \n",
    "                                                                                              numpy.round(linear_fit_with_derror[1], 3), \n",
    "                                                                                              numpy.round(numpy.sqrt(numpy.diag(linear_fit_with_derror_covariance))[1], 3), \n",
    "                                                                                              linear_fit_with_derror[2], \n",
    "                                                                                              numpy.sqrt(numpy.diag(linear_fit_with_derror_covariance))[2]\n",
    "                                                                                             ), color = '#FFAA00')\n",
    "\n",
    "pylab.text(12, 0.001, 'Dcoeff = %f +/- %f um^2/s\\nexponent = %f +/- %f\\noffset = %f +/- %f um^2' %(linear_fit[0], \n",
    "                                                                                              numpy.sqrt(numpy.diag(linear_fit_covariance))[0], \n",
    "                                                                                              numpy.round(linear_fit[1], 3), \n",
    "                                                                                              numpy.round(numpy.sqrt(numpy.diag(linear_fit_covariance))[1], 3), \n",
    "                                                                                              linear_fit[2], \n",
    "                                                                                              numpy.sqrt(numpy.diag(linear_fit_covariance))[2]\n",
    "                                                                                             ), color = 'c')\n",
    "#pylab.savefig('200729_bLR32_6h_30msExp_200msLag_013_reg_7d_400mm_emsd_with_error_searchrange20')"
   ]
  },
  {
   "cell_type": "markdown",
   "metadata": {},
   "source": [
    "If dynamic error is not significant, both fits should look reasonable and the fit results should not differ substantially whether you include dynamic error or not. However, the uncertainties from the fit to the equation *with* dynamic error are often infinite. This is probably due to the fact that the equation is difficult to fit. <br> <br>\n",
    "If you cannot put error bars on the fit to the msd with dynamic error, and if the values are similar and either fit looks reasonable, it is recommended to take the values from the fit to the pure msd. It is better to have an error esimate in your results than not. "
   ]
  },
  {
   "cell_type": "markdown",
   "metadata": {},
   "source": [
    "### <font color='orange'> Note: the part for obtaining the values for D, α will be updated."
   ]
  },
  {
   "cell_type": "markdown",
   "metadata": {},
   "source": [
    "Now let's fit to these curves to extract a diffusion coefficient, D, and a scaling exponent, α. <br>\n",
    "Note that in the linear fit to the emsd, performed below, there is an option to specify the max timelag you wish to use. \n",
    "Here we use linear-linear plots and the corresponding expression for subdiffision: msd(t) = 4Dt^α + C. <br>\n",
    "The offset C is often observed and also expected from static error. "
   ]
  },
  {
   "cell_type": "code",
   "execution_count": null,
   "metadata": {},
   "outputs": [],
   "source": [
    "current_emsd_key = 'all' # later on you will have other emsds, but here we are looking at all trajectories without discrimination\n",
    "current_emsd_dataframe = emsd[current_emsd_key]\n",
    "#current_emsd_dataframe = current_emsd_dataframe.iloc[20:150,:]  # here you can choose to only fit a part of the msd curve\n",
    "\n",
    "linear_fit, linear_fit_covariance = scipy.optimize.curve_fit(tracking.msd_general_diffusion, current_emsd_dataframe.index, current_emsd_dataframe.msd)\n",
    "#linear_fit_s, linear_fit_s_covariance = scipy.optimize.curve_fit(tracking.msd_general_diffusion, current_emsd_dataframe.index, current_emsd_dataframe.msd, sigma=current_emsd_dataframe.error_finiteness)\n",
    "print('Fit results:\\nDcoeff = %f +/- %f um^2/s\\nexponent = %f +/- %f\\noffset = %f +/- %f um^2.' %(linear_fit[0], \n",
    "                                                                                              numpy.sqrt(numpy.diag(linear_fit_covariance))[0], \n",
    "                                                                                              linear_fit[1], \n",
    "                                                                                              numpy.sqrt(numpy.diag(linear_fit_covariance))[1], \n",
    "                                                                                              linear_fit[2], \n",
    "                                                                                              numpy.sqrt(numpy.diag(linear_fit_covariance))[2]\n",
    "                                                                                             ))\n",
    "\n",
    "#print('Fit results with uncertainties fitted: Dcoeff = %f um^2/s, exponent = %f, offset = %f.' %(linear_fit_s[0], \n",
    "#                                                                                              #numpy.sqrt(numpy.diag(linear_fit[1][0])), \n",
    "#                                                                                              linear_fit_s[1], \n",
    "#                                                                                              #numpy.sqrt(numpy.diag(linear_fit[1][1])), \n",
    "#                                                                                              linear_fit_s[2], \n",
    "#                                                                                              #numpy.sqrt(numpy.diag(linear_fit[1][2]))\n",
    "#                                                                                             ))\n",
    "\n",
    "pylab.close('emsd, calculated from ' + current_emsd_key + ', fit to subdiffusive msd with constant offset')\n",
    "pylab.figure('emsd, calculated from ' + current_emsd_key + ', fit to subdiffusive msd with constant offset')\n",
    "pylab.title('emsd, calculated from ' + current_emsd_key + '\\nfit to subdiffusive msd, with constant offset')\n",
    "pylab.errorbar(current_emsd_dataframe.index, current_emsd_dataframe.msd, yerr = current_emsd_dataframe.error_finiteness, xerr = None, fmt = '.', alpha = 1, color = '#0000FF')\n",
    "pylab.plot(current_emsd_dataframe.index, tracking.msd_general_diffusion(current_emsd_dataframe.index, Dcoeff = linear_fit[0], exponent = linear_fit[1], offset=linear_fit[2]), '#0099FF', linewidth = 2, zorder = 10)\n",
    "#pylab.plot(current_emsd_dataframe.index, tracking.msd_general_diffusion(current_emsd_dataframe.index, Dcoeff = linear_fit_s[0], exponent = linear_fit_s[1], offset=linear_fit_s[2]), 'r-', linewidth = 2)\n",
    "pylab.xlabel('time lag (s)')\n",
    "pylab.ylabel(r'$\\langle \\Delta r^2 \\rangle$ [$\\mu$m$^2$]')\n",
    "pylab.ylim(0, None)\n",
    "pylab.text(25, 0.003, 'Dcoeff = %f +/- %f um^2/s \\nexponent = %f +/- %f \\noffset = %f +/- %f um^2' %(linear_fit[0], \n",
    "                                                                                              numpy.sqrt(numpy.diag(linear_fit_covariance))[0], \n",
    "                                                                                              numpy.round(linear_fit[1], 3), \n",
    "                                                                                              numpy.round(numpy.sqrt(numpy.diag(linear_fit_covariance))[1], 3), \n",
    "                                                                                              linear_fit[2], \n",
    "                                                                                              numpy.sqrt(numpy.diag(linear_fit_covariance))[2]\n",
    "                                                                                              ), color = '#0099FF')\n",
    "#pylab.text(25, 0.01, 'Dcoeff = %f +/- %f um^2/s \\nexponent = %f +/- %f \\noffset = %f +/- %f um^2' %(linear_fit_s[0], \n",
    "#                                                                                               numpy.sqrt(numpy.diag(linear_fit_s_covariance))[0], \n",
    "#                                                                                               numpy.round(linear_fit[1], 3), \n",
    "#                                                                                               numpy.round(numpy.sqrt(numpy.diag(linear_fit_s_covariance))[1], 3), \n",
    "#                                                                                               linear_fit[2], \n",
    "#                                                                                               numpy.sqrt(numpy.diag(linear_fit_s_covariance))[2]\n",
    "#                                                                                               ), color = 'r')\n",
    "pylab.savefig(dataset_location + directory_now + 'fit_to_emsd-' + current_emsd_key + '.png', bbox_inches = 'tight')"
   ]
  }
 ],
 "metadata": {
  "kernelspec": {
   "display_name": "Python 3",
   "language": "python",
   "name": "python3"
  },
  "language_info": {
   "codemirror_mode": {
    "name": "ipython",
    "version": 3
   },
   "file_extension": ".py",
   "mimetype": "text/x-python",
   "name": "python",
   "nbconvert_exporter": "python",
   "pygments_lexer": "ipython3",
   "version": "3.7.4"
  }
 },
 "nbformat": 4,
 "nbformat_minor": 4
}
